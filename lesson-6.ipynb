{
 "cells": [
  {
   "cell_type": "markdown",
   "id": "1cb5a724",
   "metadata": {},
   "source": [
    "# lesson-6"
   ]
  },
  {
   "cell_type": "markdown",
   "id": "5ba75c8d",
   "metadata": {},
   "source": [
    "### Import libs"
   ]
  },
  {
   "cell_type": "code",
   "execution_count": 1,
   "id": "9f46605c",
   "metadata": {},
   "outputs": [],
   "source": [
    "import pandas as pd\n",
    "import numpy as np\n",
    "import matplotlib.pyplot as plt\n",
    "%matplotlib inline\n",
    "\n",
    "# Для работы с матрицами\n",
    "from scipy.sparse import csr_matrix\n",
    "\n",
    "# Матричная факторизация\n",
    "from implicit import als\n",
    "\n",
    "# Модель второго уровня\n",
    "from lightgbm import LGBMClassifier\n",
    "\n",
    "import os, sys\n",
    "module_path = os.path.abspath(os.path.join(os.pardir))\n",
    "if module_path not in sys.path:\n",
    "    sys.path.append(module_path)\n",
    "\n",
    "# Написанные нами функции\n",
    "from metrics import precision_at_k, recall_at_k\n",
    "from utils import Prefilter_Items\n",
    "from recommenders import MainRecommender"
   ]
  },
  {
   "cell_type": "markdown",
   "id": "0e700940",
   "metadata": {},
   "source": [
    "### Read data"
   ]
  },
  {
   "cell_type": "code",
   "execution_count": 2,
   "id": "3c4fa22c",
   "metadata": {},
   "outputs": [],
   "source": [
    "data = pd.read_csv('retail_train.csv')\n",
    "item_features = pd.read_csv('product.csv')\n",
    "user_features = pd.read_csv('hh_demographic.csv')"
   ]
  },
  {
   "cell_type": "markdown",
   "id": "a35b688f",
   "metadata": {},
   "source": [
    "### Process features dataset"
   ]
  },
  {
   "cell_type": "code",
   "execution_count": 3,
   "id": "96c4055b",
   "metadata": {},
   "outputs": [],
   "source": [
    "ITEM_COL = 'item_id'\n",
    "USER_COL = 'user_id'"
   ]
  },
  {
   "cell_type": "code",
   "execution_count": 4,
   "id": "f5e46849",
   "metadata": {},
   "outputs": [],
   "source": [
    "# column processing\n",
    "item_features.columns = [col.lower() for col in item_features.columns]\n",
    "user_features.columns = [col.lower() for col in user_features.columns]\n",
    "\n",
    "item_features.rename(columns={'product_id': ITEM_COL}, inplace=True)\n",
    "user_features.rename(columns={'household_key': USER_COL }, inplace=True)"
   ]
  },
  {
   "cell_type": "markdown",
   "id": "fac336d8",
   "metadata": {},
   "source": [
    "### Split dataset for train, eval, test"
   ]
  },
  {
   "cell_type": "code",
   "execution_count": 5,
   "id": "8e0083b0",
   "metadata": {},
   "outputs": [],
   "source": [
    "# Важна схема обучения и валидации!\n",
    "# -- давние покупки -- | -- 6 недель -- | -- 3 недель -- \n",
    "# подобрать размер 2-ого датасета (6 недель) --> learning curve (зависимость метрики recall@k от размера датасета)\n",
    "\n",
    "\n",
    "VAL_MATCHER_WEEKS = 6\n",
    "VAL_RANKER_WEEKS = 3"
   ]
  },
  {
   "cell_type": "code",
   "execution_count": 6,
   "id": "bae0bbea",
   "metadata": {},
   "outputs": [],
   "source": [
    "# берем данные для тренировки matching модели\n",
    "data_train_matcher = data[data['week_no'] < data['week_no'].max() - (VAL_MATCHER_WEEKS + VAL_RANKER_WEEKS)]\n",
    "\n",
    "# берем данные для валидации matching модели\n",
    "data_val_matcher = data[(data['week_no'] >= data['week_no'].max() - (VAL_MATCHER_WEEKS + VAL_RANKER_WEEKS)) &\n",
    "                      (data['week_no'] < data['week_no'].max() - (VAL_RANKER_WEEKS))]\n",
    "\n",
    "\n",
    "# берем данные для тренировки ranking модели\n",
    "data_train_ranker = data_val_matcher.copy()  # Для наглядности. Далее мы добавим изменения, и они будут отличаться\n",
    "\n",
    "# берем данные для теста ranking, matching модели\n",
    "data_val_ranker = data[data['week_no'] >= data['week_no'].max() - VAL_RANKER_WEEKS]"
   ]
  },
  {
   "cell_type": "code",
   "execution_count": 7,
   "id": "4d5e942e",
   "metadata": {},
   "outputs": [],
   "source": [
    "def print_stats_data(df_data, name_df):\n",
    "    print(name_df)\n",
    "    print(f\"Shape: {df_data.shape} Users: {df_data[USER_COL].nunique()} Items: {df_data[ITEM_COL].nunique()}\")"
   ]
  },
  {
   "cell_type": "code",
   "execution_count": 8,
   "id": "865403aa",
   "metadata": {},
   "outputs": [
    {
     "name": "stdout",
     "output_type": "stream",
     "text": [
      "train_matcher\n",
      "Shape: (2108779, 12) Users: 2498 Items: 83685\n",
      "val_matcher\n",
      "Shape: (169711, 12) Users: 2154 Items: 27649\n",
      "train_ranker\n",
      "Shape: (169711, 12) Users: 2154 Items: 27649\n",
      "val_ranker\n",
      "Shape: (118314, 12) Users: 2042 Items: 24329\n"
     ]
    }
   ],
   "source": [
    "print_stats_data(data_train_matcher,'train_matcher')\n",
    "print_stats_data(data_val_matcher,'val_matcher')\n",
    "print_stats_data(data_train_ranker,'train_ranker')\n",
    "print_stats_data(data_val_ranker,'val_ranker')"
   ]
  },
  {
   "cell_type": "code",
   "execution_count": 9,
   "id": "fb8f4e49",
   "metadata": {},
   "outputs": [],
   "source": [
    "# выше видим разброс по пользователям и товарам"
   ]
  },
  {
   "cell_type": "code",
   "execution_count": 10,
   "id": "c529947d",
   "metadata": {},
   "outputs": [
    {
     "data": {
      "text/html": [
       "<div>\n",
       "<style scoped>\n",
       "    .dataframe tbody tr th:only-of-type {\n",
       "        vertical-align: middle;\n",
       "    }\n",
       "\n",
       "    .dataframe tbody tr th {\n",
       "        vertical-align: top;\n",
       "    }\n",
       "\n",
       "    .dataframe thead th {\n",
       "        text-align: right;\n",
       "    }\n",
       "</style>\n",
       "<table border=\"1\" class=\"dataframe\">\n",
       "  <thead>\n",
       "    <tr style=\"text-align: right;\">\n",
       "      <th></th>\n",
       "      <th>user_id</th>\n",
       "      <th>basket_id</th>\n",
       "      <th>day</th>\n",
       "      <th>item_id</th>\n",
       "      <th>quantity</th>\n",
       "      <th>sales_value</th>\n",
       "      <th>store_id</th>\n",
       "      <th>retail_disc</th>\n",
       "      <th>trans_time</th>\n",
       "      <th>week_no</th>\n",
       "      <th>coupon_disc</th>\n",
       "      <th>coupon_match_disc</th>\n",
       "    </tr>\n",
       "  </thead>\n",
       "  <tbody>\n",
       "    <tr>\n",
       "      <th>0</th>\n",
       "      <td>2375</td>\n",
       "      <td>26984851472</td>\n",
       "      <td>1</td>\n",
       "      <td>1004906</td>\n",
       "      <td>1</td>\n",
       "      <td>1.39</td>\n",
       "      <td>364</td>\n",
       "      <td>-0.6</td>\n",
       "      <td>1631</td>\n",
       "      <td>1</td>\n",
       "      <td>0.0</td>\n",
       "      <td>0.0</td>\n",
       "    </tr>\n",
       "    <tr>\n",
       "      <th>1</th>\n",
       "      <td>2375</td>\n",
       "      <td>26984851472</td>\n",
       "      <td>1</td>\n",
       "      <td>1033142</td>\n",
       "      <td>1</td>\n",
       "      <td>0.82</td>\n",
       "      <td>364</td>\n",
       "      <td>0.0</td>\n",
       "      <td>1631</td>\n",
       "      <td>1</td>\n",
       "      <td>0.0</td>\n",
       "      <td>0.0</td>\n",
       "    </tr>\n",
       "  </tbody>\n",
       "</table>\n",
       "</div>"
      ],
      "text/plain": [
       "   user_id    basket_id  day  item_id  quantity  sales_value  store_id  \\\n",
       "0     2375  26984851472    1  1004906         1         1.39       364   \n",
       "1     2375  26984851472    1  1033142         1         0.82       364   \n",
       "\n",
       "   retail_disc  trans_time  week_no  coupon_disc  coupon_match_disc  \n",
       "0         -0.6        1631        1          0.0                0.0  \n",
       "1          0.0        1631        1          0.0                0.0  "
      ]
     },
     "execution_count": 10,
     "metadata": {},
     "output_type": "execute_result"
    }
   ],
   "source": [
    "data_train_matcher.head(2)"
   ]
  },
  {
   "cell_type": "markdown",
   "id": "b8641bbf",
   "metadata": {},
   "source": [
    "### Prefilter items"
   ]
  },
  {
   "cell_type": "code",
   "execution_count": 11,
   "id": "cd5fdbdb",
   "metadata": {},
   "outputs": [
    {
     "name": "stdout",
     "output_type": "stream",
     "text": [
      "Decreased # items on train from 83685 to 5000\n",
      "Decreased # users on train from 2498 to 2475\n"
     ]
    }
   ],
   "source": [
    "n_items_train_before = data_train_matcher[ITEM_COL].nunique()\n",
    "n_users_train_before = data_train_matcher[USER_COL].nunique()\n",
    "\n",
    "prefilter_items = Prefilter_Items(drop_not_top_N=5000)\n",
    "prefilter_items.fit(data_train_matcher)\n",
    "data_train_matcher = prefilter_items.transform(data_train_matcher)\n",
    "\n",
    "n_items_train_after = data_train_matcher[ITEM_COL].nunique()\n",
    "n_users_train_after = data_train_matcher[USER_COL].nunique()\n",
    "\n",
    "print('Decreased # items on train from {} to {}'.format(n_items_train_before, n_items_train_after))\n",
    "print('Decreased # users on train from {} to {}'.format(n_users_train_before, n_users_train_after))"
   ]
  },
  {
   "cell_type": "markdown",
   "id": "16f5d044",
   "metadata": {},
   "source": [
    "### Make cold-start to warm-start"
   ]
  },
  {
   "cell_type": "code",
   "execution_count": 12,
   "id": "a8925ce3",
   "metadata": {},
   "outputs": [
    {
     "name": "stdout",
     "output_type": "stream",
     "text": [
      "train_matcher\n",
      "Shape: (1216888, 12) Users: 1904 Items: 5000\n",
      "val_matcher\n",
      "Shape: (162611, 12) Users: 1904 Items: 26640\n",
      "train_ranker\n",
      "Shape: (162611, 12) Users: 1904 Items: 26640\n",
      "val_ranker\n",
      "Shape: (115539, 12) Users: 1904 Items: 23734\n"
     ]
    }
   ],
   "source": [
    "# ищем общих пользователей\n",
    "common_users = list(set(data_train_matcher.user_id.values)&(set(data_val_matcher.user_id.values))&set(data_val_ranker.user_id.values))\n",
    "\n",
    "data_train_matcher = data_train_matcher[data_train_matcher.user_id.isin(common_users)]\n",
    "data_val_matcher = data_val_matcher[data_val_matcher.user_id.isin(common_users)]\n",
    "data_train_ranker = data_train_ranker[data_train_ranker.user_id.isin(common_users)]\n",
    "data_val_ranker = data_val_ranker[data_val_ranker.user_id.isin(common_users)]\n",
    "\n",
    "print_stats_data(data_train_matcher,'train_matcher')\n",
    "print_stats_data(data_val_matcher,'val_matcher')\n",
    "print_stats_data(data_train_ranker,'train_ranker')\n",
    "print_stats_data(data_val_ranker,'val_ranker')"
   ]
  },
  {
   "cell_type": "code",
   "execution_count": 13,
   "id": "e485b538",
   "metadata": {},
   "outputs": [],
   "source": [
    "# Теперь warm-start по пользователям"
   ]
  },
  {
   "cell_type": "markdown",
   "id": "0a2c7ba6",
   "metadata": {},
   "source": [
    "### Init/train recommender"
   ]
  },
  {
   "cell_type": "code",
   "execution_count": 14,
   "id": "19a06784",
   "metadata": {},
   "outputs": [
    {
     "data": {
      "application/vnd.jupyter.widget-view+json": {
       "model_id": "544df8cfc8cb47ca966c5a298739e2da",
       "version_major": 2,
       "version_minor": 0
      },
      "text/plain": [
       "  0%|          | 0/15 [00:00<?, ?it/s]"
      ]
     },
     "metadata": {},
     "output_type": "display_data"
    },
    {
     "data": {
      "application/vnd.jupyter.widget-view+json": {
       "model_id": "7c5080ccb75b4a9f81af897d7ecead4d",
       "version_major": 2,
       "version_minor": 0
      },
      "text/plain": [
       "  0%|          | 0/5000 [00:00<?, ?it/s]"
      ]
     },
     "metadata": {},
     "output_type": "display_data"
    }
   ],
   "source": [
    "recommender = MainRecommender(data_train_matcher, als_factors=400)"
   ]
  },
  {
   "cell_type": "markdown",
   "id": "c699cdc0",
   "metadata": {},
   "source": [
    "### Eval recall of matching"
   ]
  },
  {
   "cell_type": "markdown",
   "id": "a23c899f",
   "metadata": {},
   "source": [
    "**Задание 1.**"
   ]
  },
  {
   "cell_type": "markdown",
   "id": "f6933c52",
   "metadata": {},
   "source": [
    "A) Попробуйте различные варианты генерации кандидатов. Какие из них дают наибольший recall@k ?\n",
    "- Пока пробуем отобрать 50 кандидатов (k=50)\n",
    "- Качество измеряем на data_val_matcher: следующие 6 недель после трейна"
   ]
  },
  {
   "cell_type": "code",
   "execution_count": 15,
   "id": "8e276f75",
   "metadata": {},
   "outputs": [],
   "source": [
    "ACTUAL_COL = 'actual'"
   ]
  },
  {
   "cell_type": "code",
   "execution_count": 16,
   "id": "eab83ede",
   "metadata": {},
   "outputs": [
    {
     "data": {
      "text/html": [
       "<div>\n",
       "<style scoped>\n",
       "    .dataframe tbody tr th:only-of-type {\n",
       "        vertical-align: middle;\n",
       "    }\n",
       "\n",
       "    .dataframe tbody tr th {\n",
       "        vertical-align: top;\n",
       "    }\n",
       "\n",
       "    .dataframe thead th {\n",
       "        text-align: right;\n",
       "    }\n",
       "</style>\n",
       "<table border=\"1\" class=\"dataframe\">\n",
       "  <thead>\n",
       "    <tr style=\"text-align: right;\">\n",
       "      <th></th>\n",
       "      <th>user_id</th>\n",
       "      <th>actual</th>\n",
       "    </tr>\n",
       "  </thead>\n",
       "  <tbody>\n",
       "    <tr>\n",
       "      <th>0</th>\n",
       "      <td>1</td>\n",
       "      <td>[853529, 865456, 867607, 872137, 874905, 87524...</td>\n",
       "    </tr>\n",
       "    <tr>\n",
       "      <th>1</th>\n",
       "      <td>6</td>\n",
       "      <td>[1024306, 1102949, 6548453, 835394, 940804, 96...</td>\n",
       "    </tr>\n",
       "  </tbody>\n",
       "</table>\n",
       "</div>"
      ],
      "text/plain": [
       "   user_id                                             actual\n",
       "0        1  [853529, 865456, 867607, 872137, 874905, 87524...\n",
       "1        6  [1024306, 1102949, 6548453, 835394, 940804, 96..."
      ]
     },
     "execution_count": 16,
     "metadata": {},
     "output_type": "execute_result"
    }
   ],
   "source": [
    "result_eval_matcher = data_val_matcher.groupby(USER_COL)[ITEM_COL].unique().reset_index()\n",
    "result_eval_matcher.columns=[USER_COL, ACTUAL_COL]\n",
    "result_eval_matcher.head(2)"
   ]
  },
  {
   "cell_type": "code",
   "execution_count": 17,
   "id": "3b9ebcbb",
   "metadata": {},
   "outputs": [],
   "source": [
    "# N = Neighbors\n",
    "N_PREDICT = 50 "
   ]
  },
  {
   "cell_type": "code",
   "execution_count": 18,
   "id": "8ec66a57",
   "metadata": {},
   "outputs": [
    {
     "name": "stdout",
     "output_type": "stream",
     "text": [
      "Wall time: 2min 46s\n"
     ]
    }
   ],
   "source": [
    "%%time\n",
    "result_eval_matcher['als_rec'] = result_eval_matcher[USER_COL].apply(lambda x: recommender.get_als_recommendations(x, N=N_PREDICT))\n",
    "result_eval_matcher['own_rec'] = result_eval_matcher[USER_COL].apply(lambda x: recommender.get_own_recommendations(x, N=N_PREDICT))\n",
    "result_eval_matcher['sim_item_rec'] = result_eval_matcher[USER_COL].apply(lambda x: recommender.get_similar_items_recommendation(x, N=N_PREDICT))\n",
    "result_eval_matcher['baseline_top_n'] = [recommender.recs_top_n(N=N_PREDICT)] * result_eval_matcher.shape[0]\n",
    "# result_eval_matcher['sim_user_rec'] = result_eval_matcher[USER_COL].apply(lambda x: recommender.get_similar_users_recommendation(x, N=N_PREDICT))"
   ]
  },
  {
   "cell_type": "markdown",
   "id": "8952b66b",
   "metadata": {},
   "source": [
    "#### Пускай, если юзер купил < 50 товаров, то get_own_recommendations дополнит рекоммендации топ-популярными"
   ]
  },
  {
   "cell_type": "code",
   "execution_count": 19,
   "id": "b7176676",
   "metadata": {},
   "outputs": [],
   "source": [
    "def get_own_and_top_rec(own_rec, top_rec, N):\n",
    "    return (own_rec + list(set(top_rec) - set(own_rec)))[:N]"
   ]
  },
  {
   "cell_type": "code",
   "execution_count": 20,
   "id": "b598feb8",
   "metadata": {},
   "outputs": [],
   "source": [
    "result_eval_matcher['own_rec'] = result_eval_matcher['own_rec'].apply(lambda x: get_own_and_top_rec(x, result_eval_matcher['baseline_top_n'][0], N_PREDICT))"
   ]
  },
  {
   "cell_type": "code",
   "execution_count": 21,
   "id": "adfb408a",
   "metadata": {},
   "outputs": [
    {
     "data": {
      "text/html": [
       "<div>\n",
       "<style scoped>\n",
       "    .dataframe tbody tr th:only-of-type {\n",
       "        vertical-align: middle;\n",
       "    }\n",
       "\n",
       "    .dataframe tbody tr th {\n",
       "        vertical-align: top;\n",
       "    }\n",
       "\n",
       "    .dataframe thead th {\n",
       "        text-align: right;\n",
       "    }\n",
       "</style>\n",
       "<table border=\"1\" class=\"dataframe\">\n",
       "  <thead>\n",
       "    <tr style=\"text-align: right;\">\n",
       "      <th></th>\n",
       "      <th>user_id</th>\n",
       "      <th>actual</th>\n",
       "      <th>als_rec</th>\n",
       "      <th>own_rec</th>\n",
       "      <th>sim_item_rec</th>\n",
       "      <th>baseline_top_n</th>\n",
       "    </tr>\n",
       "  </thead>\n",
       "  <tbody>\n",
       "    <tr>\n",
       "      <th>0</th>\n",
       "      <td>1</td>\n",
       "      <td>[853529, 865456, 867607, 872137, 874905, 87524...</td>\n",
       "      <td>[1033142, 940631, 1041796, 1105433, 979707, 84...</td>\n",
       "      <td>[856942, 5577022, 9655212, 931136, 1124029, 80...</td>\n",
       "      <td>[891648, 981760, 9526411, 1052046, 842126, 655...</td>\n",
       "      <td>[1082185, 981760, 995242, 1127831, 840361, 109...</td>\n",
       "    </tr>\n",
       "    <tr>\n",
       "      <th>1</th>\n",
       "      <td>6</td>\n",
       "      <td>[1024306, 1102949, 6548453, 835394, 940804, 96...</td>\n",
       "      <td>[904360, 878996, 849843, 866211, 5569230, 1055...</td>\n",
       "      <td>[13003092, 9911484, 5569792, 1084036, 1119051,...</td>\n",
       "      <td>[981760, 915586, 889731, 1068292, 962568, 8262...</td>\n",
       "      <td>[1082185, 981760, 995242, 1127831, 840361, 109...</td>\n",
       "    </tr>\n",
       "    <tr>\n",
       "      <th>2</th>\n",
       "      <td>7</td>\n",
       "      <td>[836281, 843306, 845294, 914190, 920456, 93886...</td>\n",
       "      <td>[987724, 985999, 849843, 5591154, 1095100, 868...</td>\n",
       "      <td>[949836, 6944571, 6602729, 983316, 922561, 653...</td>\n",
       "      <td>[981760, 859010, 9832070, 962568, 1038985, 819...</td>\n",
       "      <td>[1082185, 981760, 995242, 1127831, 840361, 109...</td>\n",
       "    </tr>\n",
       "    <tr>\n",
       "      <th>3</th>\n",
       "      <td>8</td>\n",
       "      <td>[868075, 886787, 945611, 1005186, 1008787, 101...</td>\n",
       "      <td>[951590, 1065593, 1091365, 1133018, 1003421, 8...</td>\n",
       "      <td>[8181377, 1116578, 981660, 1105433, 969932, 55...</td>\n",
       "      <td>[981760, 1005186, 889731, 1101956, 982790, 111...</td>\n",
       "      <td>[1082185, 981760, 995242, 1127831, 840361, 109...</td>\n",
       "    </tr>\n",
       "    <tr>\n",
       "      <th>4</th>\n",
       "      <td>9</td>\n",
       "      <td>[883616, 1029743, 1039126, 1051323, 1082772, 1...</td>\n",
       "      <td>[862799, 1056005, 1035880, 856772, 1139471, 10...</td>\n",
       "      <td>[1056005, 862799, 1018588, 995055, 1090017, 10...</td>\n",
       "      <td>[916993, 918018, 1056005, 826249, 862349, 8446...</td>\n",
       "      <td>[1082185, 981760, 995242, 1127831, 840361, 109...</td>\n",
       "    </tr>\n",
       "    <tr>\n",
       "      <th>5</th>\n",
       "      <td>13</td>\n",
       "      <td>[6544236, 822407, 908317, 1056775, 1066289, 11...</td>\n",
       "      <td>[1110292, 951590, 1022097, 8090521, 1136257, 9...</td>\n",
       "      <td>[893802, 1038985, 862070, 1042942, 898466, 101...</td>\n",
       "      <td>[981760, 6533765, 1053063, 1038985, 971922, 11...</td>\n",
       "      <td>[1082185, 981760, 995242, 1127831, 840361, 109...</td>\n",
       "    </tr>\n",
       "    <tr>\n",
       "      <th>6</th>\n",
       "      <td>14</td>\n",
       "      <td>[917277, 981760, 878234, 925514, 986394, 10220...</td>\n",
       "      <td>[999270, 1103629, 844165, 5568378, 995242, 107...</td>\n",
       "      <td>[13876901, 1056651, 904774, 861615, 861486, 93...</td>\n",
       "      <td>[6533765, 826249, 1138443, 985999, 901776, 863...</td>\n",
       "      <td>[1082185, 981760, 995242, 1127831, 840361, 109...</td>\n",
       "    </tr>\n",
       "    <tr>\n",
       "      <th>7</th>\n",
       "      <td>15</td>\n",
       "      <td>[996016, 1014509, 1044404, 1087353, 976199, 10...</td>\n",
       "      <td>[834484, 1053530, 1042616, 945779, 863632, 895...</td>\n",
       "      <td>[920002, 910439, 1053530, 835595, 1034956, 957...</td>\n",
       "      <td>[981760, 915586, 1019142, 1098248, 1103752, 10...</td>\n",
       "      <td>[1082185, 981760, 995242, 1127831, 840361, 109...</td>\n",
       "    </tr>\n",
       "  </tbody>\n",
       "</table>\n",
       "</div>"
      ],
      "text/plain": [
       "   user_id                                             actual  \\\n",
       "0        1  [853529, 865456, 867607, 872137, 874905, 87524...   \n",
       "1        6  [1024306, 1102949, 6548453, 835394, 940804, 96...   \n",
       "2        7  [836281, 843306, 845294, 914190, 920456, 93886...   \n",
       "3        8  [868075, 886787, 945611, 1005186, 1008787, 101...   \n",
       "4        9  [883616, 1029743, 1039126, 1051323, 1082772, 1...   \n",
       "5       13  [6544236, 822407, 908317, 1056775, 1066289, 11...   \n",
       "6       14  [917277, 981760, 878234, 925514, 986394, 10220...   \n",
       "7       15  [996016, 1014509, 1044404, 1087353, 976199, 10...   \n",
       "\n",
       "                                             als_rec  \\\n",
       "0  [1033142, 940631, 1041796, 1105433, 979707, 84...   \n",
       "1  [904360, 878996, 849843, 866211, 5569230, 1055...   \n",
       "2  [987724, 985999, 849843, 5591154, 1095100, 868...   \n",
       "3  [951590, 1065593, 1091365, 1133018, 1003421, 8...   \n",
       "4  [862799, 1056005, 1035880, 856772, 1139471, 10...   \n",
       "5  [1110292, 951590, 1022097, 8090521, 1136257, 9...   \n",
       "6  [999270, 1103629, 844165, 5568378, 995242, 107...   \n",
       "7  [834484, 1053530, 1042616, 945779, 863632, 895...   \n",
       "\n",
       "                                             own_rec  \\\n",
       "0  [856942, 5577022, 9655212, 931136, 1124029, 80...   \n",
       "1  [13003092, 9911484, 5569792, 1084036, 1119051,...   \n",
       "2  [949836, 6944571, 6602729, 983316, 922561, 653...   \n",
       "3  [8181377, 1116578, 981660, 1105433, 969932, 55...   \n",
       "4  [1056005, 862799, 1018588, 995055, 1090017, 10...   \n",
       "5  [893802, 1038985, 862070, 1042942, 898466, 101...   \n",
       "6  [13876901, 1056651, 904774, 861615, 861486, 93...   \n",
       "7  [920002, 910439, 1053530, 835595, 1034956, 957...   \n",
       "\n",
       "                                        sim_item_rec  \\\n",
       "0  [891648, 981760, 9526411, 1052046, 842126, 655...   \n",
       "1  [981760, 915586, 889731, 1068292, 962568, 8262...   \n",
       "2  [981760, 859010, 9832070, 962568, 1038985, 819...   \n",
       "3  [981760, 1005186, 889731, 1101956, 982790, 111...   \n",
       "4  [916993, 918018, 1056005, 826249, 862349, 8446...   \n",
       "5  [981760, 6533765, 1053063, 1038985, 971922, 11...   \n",
       "6  [6533765, 826249, 1138443, 985999, 901776, 863...   \n",
       "7  [981760, 915586, 1019142, 1098248, 1103752, 10...   \n",
       "\n",
       "                                      baseline_top_n  \n",
       "0  [1082185, 981760, 995242, 1127831, 840361, 109...  \n",
       "1  [1082185, 981760, 995242, 1127831, 840361, 109...  \n",
       "2  [1082185, 981760, 995242, 1127831, 840361, 109...  \n",
       "3  [1082185, 981760, 995242, 1127831, 840361, 109...  \n",
       "4  [1082185, 981760, 995242, 1127831, 840361, 109...  \n",
       "5  [1082185, 981760, 995242, 1127831, 840361, 109...  \n",
       "6  [1082185, 981760, 995242, 1127831, 840361, 109...  \n",
       "7  [1082185, 981760, 995242, 1127831, 840361, 109...  "
      ]
     },
     "execution_count": 21,
     "metadata": {},
     "output_type": "execute_result"
    }
   ],
   "source": [
    "result_eval_matcher.head(8)"
   ]
  },
  {
   "cell_type": "code",
   "execution_count": 22,
   "id": "f43a626b",
   "metadata": {},
   "outputs": [],
   "source": [
    "def calc_recall(df_data, top_k):\n",
    "    for col_name in df_data.columns[2:]:\n",
    "        yield col_name, df_data.apply(lambda row: recall_at_k(row[col_name], row[ACTUAL_COL], k=top_k), axis=1).mean()"
   ]
  },
  {
   "cell_type": "code",
   "execution_count": 23,
   "id": "f323736f",
   "metadata": {},
   "outputs": [],
   "source": [
    "def calc_precision(df_data, top_k):\n",
    "    for col_name in df_data.columns[2:]:\n",
    "        yield col_name, df_data.apply(lambda row: precision_at_k(row[col_name], row[ACTUAL_COL], k=top_k), axis=1).mean()"
   ]
  },
  {
   "cell_type": "markdown",
   "id": "f5603a72",
   "metadata": {},
   "source": [
    "### Recall@50 of matching"
   ]
  },
  {
   "cell_type": "code",
   "execution_count": 24,
   "id": "8fa830bb",
   "metadata": {},
   "outputs": [],
   "source": [
    "TOPK_RECALL = 50"
   ]
  },
  {
   "cell_type": "code",
   "execution_count": 25,
   "id": "671dd6ed",
   "metadata": {},
   "outputs": [
    {
     "data": {
      "text/plain": [
       "[('als_rec', 0.10763161729186223),\n",
       " ('own_rec', 0.09025249554302363),\n",
       " ('baseline_top_n', 0.08653941564773591),\n",
       " ('sim_item_rec', 0.07862520018121512)]"
      ]
     },
     "execution_count": 25,
     "metadata": {},
     "output_type": "execute_result"
    }
   ],
   "source": [
    "sorted(calc_recall(result_eval_matcher, TOPK_RECALL), key=lambda x: x[1],reverse=True)"
   ]
  },
  {
   "cell_type": "markdown",
   "id": "ddde4585",
   "metadata": {},
   "source": [
    "### Precision@5 of matching"
   ]
  },
  {
   "cell_type": "code",
   "execution_count": 26,
   "id": "d28c3d17",
   "metadata": {},
   "outputs": [],
   "source": [
    "TOPK_PRECISION = 5"
   ]
  },
  {
   "cell_type": "code",
   "execution_count": 27,
   "id": "22f1bb18",
   "metadata": {},
   "outputs": [
    {
     "data": {
      "text/plain": [
       "[('own_rec', 0.25787815126050173),\n",
       " ('baseline_top_n', 0.20031512605041774),\n",
       " ('als_rec', 0.16628151260504007),\n",
       " ('sim_item_rec', 0.09527310924369715)]"
      ]
     },
     "execution_count": 27,
     "metadata": {},
     "output_type": "execute_result"
    }
   ],
   "source": [
    "sorted(calc_precision(result_eval_matcher, TOPK_PRECISION), key=lambda x: x[1],reverse=True)"
   ]
  },
  {
   "cell_type": "markdown",
   "id": "d0c7fe0e",
   "metadata": {},
   "source": [
    "#### Дают ли own recommendtions + top-popular лучший recall?"
   ]
  },
  {
   "cell_type": "markdown",
   "id": "4b61b820",
   "metadata": {},
   "source": [
    "НЕТ"
   ]
  },
  {
   "cell_type": "markdown",
   "id": "e46def1d",
   "metadata": {},
   "source": [
    "B)* Как зависит recall@k от k? Постройте для одной схемы генерации кандидатов эту зависимость для k = {20, 50, 100, 200, 500}"
   ]
  },
  {
   "cell_type": "code",
   "execution_count": 28,
   "id": "ffb47c44",
   "metadata": {},
   "outputs": [
    {
     "name": "stdout",
     "output_type": "stream",
     "text": [
      "Wall time: 3min\n"
     ]
    },
    {
     "data": {
      "text/plain": [
       "[(0.05622235389080182, 20),\n",
       " (0.10763161729186196, 50),\n",
       " (0.16699475596610544, 100),\n",
       " (0.23879500939121565, 200),\n",
       " (0.32716085341540724, 500)]"
      ]
     },
     "execution_count": 28,
     "metadata": {},
     "output_type": "execute_result"
    }
   ],
   "source": [
    "%%time\n",
    "\n",
    "K = [20, 50, 100, 200, 500]\n",
    "\n",
    "als_rec_at_k  = [(result_eval_matcher[USER_COL].apply(lambda x: recommender.get_als_recommendations(x, N=k)), k) for k in K]\n",
    "\n",
    "als_recall_at_k = [(np.array([recall_at_k(rec[0][i], result_eval_matcher[ACTUAL_COL][i], k=rec[1]) for i in result_eval_matcher.index]).mean(), rec[1]) for rec in als_rec_at_k]\n",
    "\n",
    "als_recall_at_k"
   ]
  },
  {
   "cell_type": "code",
   "execution_count": 29,
   "id": "925b8036",
   "metadata": {},
   "outputs": [
    {
     "data": {
      "image/png": "[encoded data removed]",
      "text/plain": [
       "<Figure size 432x288 with 1 Axes>"
      ]
     },
     "metadata": {
      "needs_background": "light"
     },
     "output_type": "display_data"
    }
   ],
   "source": [
    "plt.plot(K, list(map(lambda x: x[0], als_recall_at_k)))\n",
    "plt.title('ALS', fontsize=20)\n",
    "plt.xlabel('k', fontsize=15)\n",
    "plt.ylabel('recall@k', fontsize=15)\n",
    "plt.show()"
   ]
  },
  {
   "cell_type": "markdown",
   "id": "8540473b",
   "metadata": {},
   "source": [
    "C)* Исходя из прошлого вопроса, как вы думаете, какое значение k является наиболее разумным?"
   ]
  },
  {
   "cell_type": "markdown",
   "id": "2922dfb3",
   "metadata": {},
   "source": [
    "recall@0 = 0, recall@5001 = 1"
   ]
  },
  {
   "cell_type": "markdown",
   "id": "d82998fb",
   "metadata": {},
   "source": [
    "Чем больше k, чем больше потенциальных товаров (кандидатов) мы отбираем, тем модель второго уровня порекомендует точнее, но это будет дольше, так как количетво данных возрастёт до n * k, где n, это количетсво пользователей для которых мы рекомендуем, с учётом горячего старта 1915 пользователей.\n",
    "\n",
    "Число k подбирается с учётом возможностей по мощности и времени ожидания.\n",
    "\n",
    "Оптимальное число k находится на перегибе графика recall@k(k), там где стремтильный рост recall@k снижается. В нашем случае за перегиб можно взять точку k=200."
   ]
  },
  {
   "cell_type": "code",
   "execution_count": 30,
   "id": "65658229",
   "metadata": {},
   "outputs": [],
   "source": [
    "N_PREDICT = 200"
   ]
  },
  {
   "cell_type": "markdown",
   "id": "3e0e26da",
   "metadata": {},
   "source": [
    "### Подготовка данных для трейна"
   ]
  },
  {
   "cell_type": "code",
   "execution_count": 31,
   "id": "c4b8ae37",
   "metadata": {},
   "outputs": [],
   "source": [
    "# взяли пользователей из трейна для ранжирования\n",
    "df_match_candidates = pd.DataFrame(data_train_ranker[USER_COL].unique())\n",
    "df_match_candidates.columns = [USER_COL]"
   ]
  },
  {
   "cell_type": "code",
   "execution_count": 32,
   "id": "221335bc",
   "metadata": {},
   "outputs": [],
   "source": [
    "# собираем кандитатов с первого этапа (matcher)\n",
    "df_match_candidates['candidates'] = df_match_candidates[USER_COL].apply(lambda x: recommender.get_als_recommendations(x, N=N_PREDICT))"
   ]
  },
  {
   "cell_type": "code",
   "execution_count": 33,
   "id": "3b44d67c",
   "metadata": {},
   "outputs": [
    {
     "data": {
      "text/html": [
       "<div>\n",
       "<style scoped>\n",
       "    .dataframe tbody tr th:only-of-type {\n",
       "        vertical-align: middle;\n",
       "    }\n",
       "\n",
       "    .dataframe tbody tr th {\n",
       "        vertical-align: top;\n",
       "    }\n",
       "\n",
       "    .dataframe thead th {\n",
       "        text-align: right;\n",
       "    }\n",
       "</style>\n",
       "<table border=\"1\" class=\"dataframe\">\n",
       "  <thead>\n",
       "    <tr style=\"text-align: right;\">\n",
       "      <th></th>\n",
       "      <th>user_id</th>\n",
       "      <th>candidates</th>\n",
       "    </tr>\n",
       "  </thead>\n",
       "  <tbody>\n",
       "    <tr>\n",
       "      <th>0</th>\n",
       "      <td>2070</td>\n",
       "      <td>[1004906, 1082185, 1056509, 871756, 897954, 86...</td>\n",
       "    </tr>\n",
       "    <tr>\n",
       "      <th>1</th>\n",
       "      <td>2021</td>\n",
       "      <td>[1070702, 950935, 1119454, 1019142, 907014, 82...</td>\n",
       "    </tr>\n",
       "  </tbody>\n",
       "</table>\n",
       "</div>"
      ],
      "text/plain": [
       "   user_id                                         candidates\n",
       "0     2070  [1004906, 1082185, 1056509, 871756, 897954, 86...\n",
       "1     2021  [1070702, 950935, 1119454, 1019142, 907014, 82..."
      ]
     },
     "execution_count": 33,
     "metadata": {},
     "output_type": "execute_result"
    }
   ],
   "source": [
    "df_match_candidates.head(2)"
   ]
  },
  {
   "cell_type": "code",
   "execution_count": 34,
   "id": "c9e22c86",
   "metadata": {},
   "outputs": [],
   "source": [
    "df_items = df_match_candidates.apply(lambda x: pd.Series(x['candidates']), axis=1).stack().reset_index(level=1, drop=True)\n",
    "df_items.name = ITEM_COL"
   ]
  },
  {
   "cell_type": "code",
   "execution_count": 35,
   "id": "dba281c1",
   "metadata": {},
   "outputs": [],
   "source": [
    "df_match_candidates = df_match_candidates.drop('candidates', axis=1).join(df_items)"
   ]
  },
  {
   "cell_type": "code",
   "execution_count": 36,
   "id": "1440f538",
   "metadata": {},
   "outputs": [
    {
     "data": {
      "text/html": [
       "<div>\n",
       "<style scoped>\n",
       "    .dataframe tbody tr th:only-of-type {\n",
       "        vertical-align: middle;\n",
       "    }\n",
       "\n",
       "    .dataframe tbody tr th {\n",
       "        vertical-align: top;\n",
       "    }\n",
       "\n",
       "    .dataframe thead th {\n",
       "        text-align: right;\n",
       "    }\n",
       "</style>\n",
       "<table border=\"1\" class=\"dataframe\">\n",
       "  <thead>\n",
       "    <tr style=\"text-align: right;\">\n",
       "      <th></th>\n",
       "      <th>user_id</th>\n",
       "      <th>item_id</th>\n",
       "    </tr>\n",
       "  </thead>\n",
       "  <tbody>\n",
       "    <tr>\n",
       "      <th>0</th>\n",
       "      <td>2070</td>\n",
       "      <td>1004906</td>\n",
       "    </tr>\n",
       "    <tr>\n",
       "      <th>0</th>\n",
       "      <td>2070</td>\n",
       "      <td>1082185</td>\n",
       "    </tr>\n",
       "    <tr>\n",
       "      <th>0</th>\n",
       "      <td>2070</td>\n",
       "      <td>1056509</td>\n",
       "    </tr>\n",
       "    <tr>\n",
       "      <th>0</th>\n",
       "      <td>2070</td>\n",
       "      <td>871756</td>\n",
       "    </tr>\n",
       "    <tr>\n",
       "      <th>0</th>\n",
       "      <td>2070</td>\n",
       "      <td>897954</td>\n",
       "    </tr>\n",
       "    <tr>\n",
       "      <th>0</th>\n",
       "      <td>2070</td>\n",
       "      <td>861279</td>\n",
       "    </tr>\n",
       "    <tr>\n",
       "      <th>0</th>\n",
       "      <td>2070</td>\n",
       "      <td>1005186</td>\n",
       "    </tr>\n",
       "    <tr>\n",
       "      <th>0</th>\n",
       "      <td>2070</td>\n",
       "      <td>1074754</td>\n",
       "    </tr>\n",
       "  </tbody>\n",
       "</table>\n",
       "</div>"
      ],
      "text/plain": [
       "   user_id  item_id\n",
       "0     2070  1004906\n",
       "0     2070  1082185\n",
       "0     2070  1056509\n",
       "0     2070   871756\n",
       "0     2070   897954\n",
       "0     2070   861279\n",
       "0     2070  1005186\n",
       "0     2070  1074754"
      ]
     },
     "execution_count": 36,
     "metadata": {},
     "output_type": "execute_result"
    }
   ],
   "source": [
    "df_match_candidates.head(8)"
   ]
  },
  {
   "cell_type": "markdown",
   "id": "52f739ac",
   "metadata": {},
   "source": [
    "### Check warm start"
   ]
  },
  {
   "cell_type": "code",
   "execution_count": 37,
   "id": "d528d5ab",
   "metadata": {},
   "outputs": [
    {
     "name": "stdout",
     "output_type": "stream",
     "text": [
      "match_candidates\n",
      "Shape: (380800, 2) Users: 1904 Items: 5000\n"
     ]
    }
   ],
   "source": [
    "print_stats_data(df_match_candidates, 'match_candidates')"
   ]
  },
  {
   "cell_type": "markdown",
   "id": "d8b3276d",
   "metadata": {},
   "source": [
    "### Создаем трейн сет для ранжирования с учетом кандидатов с этапа 1"
   ]
  },
  {
   "cell_type": "code",
   "execution_count": 38,
   "id": "f6519897",
   "metadata": {},
   "outputs": [
    {
     "data": {
      "text/html": [
       "<div>\n",
       "<style scoped>\n",
       "    .dataframe tbody tr th:only-of-type {\n",
       "        vertical-align: middle;\n",
       "    }\n",
       "\n",
       "    .dataframe tbody tr th {\n",
       "        vertical-align: top;\n",
       "    }\n",
       "\n",
       "    .dataframe thead th {\n",
       "        text-align: right;\n",
       "    }\n",
       "</style>\n",
       "<table border=\"1\" class=\"dataframe\">\n",
       "  <thead>\n",
       "    <tr style=\"text-align: right;\">\n",
       "      <th></th>\n",
       "      <th>user_id</th>\n",
       "      <th>item_id</th>\n",
       "      <th>target</th>\n",
       "    </tr>\n",
       "  </thead>\n",
       "  <tbody>\n",
       "    <tr>\n",
       "      <th>0</th>\n",
       "      <td>1</td>\n",
       "      <td>820165</td>\n",
       "      <td>1</td>\n",
       "    </tr>\n",
       "    <tr>\n",
       "      <th>1</th>\n",
       "      <td>1</td>\n",
       "      <td>829323</td>\n",
       "      <td>1</td>\n",
       "    </tr>\n",
       "    <tr>\n",
       "      <th>2</th>\n",
       "      <td>1</td>\n",
       "      <td>829563</td>\n",
       "      <td>1</td>\n",
       "    </tr>\n",
       "    <tr>\n",
       "      <th>3</th>\n",
       "      <td>1</td>\n",
       "      <td>830156</td>\n",
       "      <td>1</td>\n",
       "    </tr>\n",
       "    <tr>\n",
       "      <th>4</th>\n",
       "      <td>1</td>\n",
       "      <td>832990</td>\n",
       "      <td>1</td>\n",
       "    </tr>\n",
       "  </tbody>\n",
       "</table>\n",
       "</div>"
      ],
      "text/plain": [
       "   user_id  item_id  target\n",
       "0        1   820165       1\n",
       "1        1   829323       1\n",
       "2        1   829563       1\n",
       "3        1   830156       1\n",
       "4        1   832990       1"
      ]
     },
     "execution_count": 38,
     "metadata": {},
     "output_type": "execute_result"
    }
   ],
   "source": [
    "df_ranker_train = data_train_ranker[[USER_COL, ITEM_COL, 'quantity']].copy()\n",
    "df_ranker_train.rename(columns={'quantity': 'target'}, inplace=True)\n",
    "df_ranker_train = df_ranker_train.groupby([USER_COL, ITEM_COL]).count().reset_index()\n",
    "df_ranker_train['target'] = df_ranker_train['target'].astype(bool).astype(int)\n",
    "df_ranker_train.head(5)"
   ]
  },
  {
   "cell_type": "code",
   "execution_count": 39,
   "id": "b41e0be4",
   "metadata": {},
   "outputs": [
    {
     "data": {
      "text/html": [
       "<div>\n",
       "<style scoped>\n",
       "    .dataframe tbody tr th:only-of-type {\n",
       "        vertical-align: middle;\n",
       "    }\n",
       "\n",
       "    .dataframe tbody tr th {\n",
       "        vertical-align: top;\n",
       "    }\n",
       "\n",
       "    .dataframe thead th {\n",
       "        text-align: right;\n",
       "    }\n",
       "</style>\n",
       "<table border=\"1\" class=\"dataframe\">\n",
       "  <thead>\n",
       "    <tr style=\"text-align: right;\">\n",
       "      <th></th>\n",
       "      <th>user_id</th>\n",
       "      <th>item_id</th>\n",
       "      <th>target</th>\n",
       "    </tr>\n",
       "  </thead>\n",
       "  <tbody>\n",
       "    <tr>\n",
       "      <th>0</th>\n",
       "      <td>2070</td>\n",
       "      <td>1004906</td>\n",
       "      <td>0.0</td>\n",
       "    </tr>\n",
       "    <tr>\n",
       "      <th>1</th>\n",
       "      <td>2070</td>\n",
       "      <td>1082185</td>\n",
       "      <td>1.0</td>\n",
       "    </tr>\n",
       "    <tr>\n",
       "      <th>2</th>\n",
       "      <td>2070</td>\n",
       "      <td>1056509</td>\n",
       "      <td>0.0</td>\n",
       "    </tr>\n",
       "    <tr>\n",
       "      <th>3</th>\n",
       "      <td>2070</td>\n",
       "      <td>871756</td>\n",
       "      <td>0.0</td>\n",
       "    </tr>\n",
       "    <tr>\n",
       "      <th>4</th>\n",
       "      <td>2070</td>\n",
       "      <td>897954</td>\n",
       "      <td>0.0</td>\n",
       "    </tr>\n",
       "  </tbody>\n",
       "</table>\n",
       "</div>"
      ],
      "text/plain": [
       "   user_id  item_id  target\n",
       "0     2070  1004906     0.0\n",
       "1     2070  1082185     1.0\n",
       "2     2070  1056509     0.0\n",
       "3     2070   871756     0.0\n",
       "4     2070   897954     0.0"
      ]
     },
     "execution_count": 39,
     "metadata": {},
     "output_type": "execute_result"
    }
   ],
   "source": [
    "df_ranker_train = df_match_candidates.merge(df_ranker_train, on=[USER_COL, ITEM_COL], how='left')\n",
    "df_ranker_train['target'].fillna(0, inplace= True)\n",
    "df_ranker_train.head(5)"
   ]
  },
  {
   "cell_type": "code",
   "execution_count": 40,
   "id": "905fa68d",
   "metadata": {},
   "outputs": [
    {
     "data": {
      "text/plain": [
       "0.0    350324\n",
       "1.0     30476\n",
       "Name: target, dtype: int64"
      ]
     },
     "execution_count": 40,
     "metadata": {},
     "output_type": "execute_result"
    }
   ],
   "source": [
    "df_ranker_train.target.value_counts()"
   ]
  },
  {
   "cell_type": "code",
   "execution_count": 41,
   "id": "14e5287d",
   "metadata": {},
   "outputs": [
    {
     "data": {
      "text/plain": [
       "0.08003151260504202"
      ]
     },
     "execution_count": 41,
     "metadata": {},
     "output_type": "execute_result"
    }
   ],
   "source": [
    "df_ranker_train['target'].mean()"
   ]
  },
  {
   "cell_type": "markdown",
   "id": "f6066429",
   "metadata": {},
   "source": [
    "#### Сильный дизбаланс классов!!!"
   ]
  },
  {
   "cell_type": "code",
   "execution_count": 42,
   "id": "28168935",
   "metadata": {},
   "outputs": [
    {
     "data": {
      "text/html": [
       "<div>\n",
       "<style scoped>\n",
       "    .dataframe tbody tr th:only-of-type {\n",
       "        vertical-align: middle;\n",
       "    }\n",
       "\n",
       "    .dataframe tbody tr th {\n",
       "        vertical-align: top;\n",
       "    }\n",
       "\n",
       "    .dataframe thead th {\n",
       "        text-align: right;\n",
       "    }\n",
       "</style>\n",
       "<table border=\"1\" class=\"dataframe\">\n",
       "  <thead>\n",
       "    <tr style=\"text-align: right;\">\n",
       "      <th></th>\n",
       "      <th>user_id</th>\n",
       "      <th>item_id</th>\n",
       "      <th>target</th>\n",
       "    </tr>\n",
       "  </thead>\n",
       "  <tbody>\n",
       "    <tr>\n",
       "      <th>0</th>\n",
       "      <td>2070</td>\n",
       "      <td>1004906</td>\n",
       "      <td>0.0</td>\n",
       "    </tr>\n",
       "    <tr>\n",
       "      <th>1</th>\n",
       "      <td>2070</td>\n",
       "      <td>1082185</td>\n",
       "      <td>1.0</td>\n",
       "    </tr>\n",
       "    <tr>\n",
       "      <th>2</th>\n",
       "      <td>2070</td>\n",
       "      <td>1056509</td>\n",
       "      <td>0.0</td>\n",
       "    </tr>\n",
       "    <tr>\n",
       "      <th>3</th>\n",
       "      <td>2070</td>\n",
       "      <td>871756</td>\n",
       "      <td>0.0</td>\n",
       "    </tr>\n",
       "    <tr>\n",
       "      <th>4</th>\n",
       "      <td>2070</td>\n",
       "      <td>897954</td>\n",
       "      <td>0.0</td>\n",
       "    </tr>\n",
       "    <tr>\n",
       "      <th>5</th>\n",
       "      <td>2070</td>\n",
       "      <td>861279</td>\n",
       "      <td>0.0</td>\n",
       "    </tr>\n",
       "    <tr>\n",
       "      <th>6</th>\n",
       "      <td>2070</td>\n",
       "      <td>1005186</td>\n",
       "      <td>0.0</td>\n",
       "    </tr>\n",
       "    <tr>\n",
       "      <th>7</th>\n",
       "      <td>2070</td>\n",
       "      <td>1074754</td>\n",
       "      <td>0.0</td>\n",
       "    </tr>\n",
       "    <tr>\n",
       "      <th>8</th>\n",
       "      <td>2070</td>\n",
       "      <td>1081177</td>\n",
       "      <td>0.0</td>\n",
       "    </tr>\n",
       "  </tbody>\n",
       "</table>\n",
       "</div>"
      ],
      "text/plain": [
       "   user_id  item_id  target\n",
       "0     2070  1004906     0.0\n",
       "1     2070  1082185     1.0\n",
       "2     2070  1056509     0.0\n",
       "3     2070   871756     0.0\n",
       "4     2070   897954     0.0\n",
       "5     2070   861279     0.0\n",
       "6     2070  1005186     0.0\n",
       "7     2070  1074754     0.0\n",
       "8     2070  1081177     0.0"
      ]
     },
     "execution_count": 42,
     "metadata": {},
     "output_type": "execute_result"
    }
   ],
   "source": [
    "df_ranker_train.head(9)"
   ]
  },
  {
   "cell_type": "markdown",
   "id": "74a07f78",
   "metadata": {},
   "source": [
    "### Подготавливаем фичи для обучения модели"
   ]
  },
  {
   "cell_type": "markdown",
   "id": "9578fc09",
   "metadata": {},
   "source": [
    "**Задание 2.**\n",
    "\n",
    "Обучите модель 2-ого уровня, при этом:"
   ]
  },
  {
   "cell_type": "markdown",
   "id": "bffc0fe8",
   "metadata": {},
   "source": [
    "- Добавьте минимум по 2 фичи для юзера, товара и пары юзер-товар"
   ]
  },
  {
   "cell_type": "code",
   "execution_count": 43,
   "id": "41b59bab",
   "metadata": {},
   "outputs": [
    {
     "data": {
      "text/html": [
       "<div>\n",
       "<style scoped>\n",
       "    .dataframe tbody tr th:only-of-type {\n",
       "        vertical-align: middle;\n",
       "    }\n",
       "\n",
       "    .dataframe tbody tr th {\n",
       "        vertical-align: top;\n",
       "    }\n",
       "\n",
       "    .dataframe thead th {\n",
       "        text-align: right;\n",
       "    }\n",
       "</style>\n",
       "<table border=\"1\" class=\"dataframe\">\n",
       "  <thead>\n",
       "    <tr style=\"text-align: right;\">\n",
       "      <th></th>\n",
       "      <th>user_id</th>\n",
       "      <th>basket_id</th>\n",
       "      <th>day</th>\n",
       "      <th>item_id</th>\n",
       "      <th>quantity</th>\n",
       "      <th>sales_value</th>\n",
       "      <th>store_id</th>\n",
       "      <th>retail_disc</th>\n",
       "      <th>trans_time</th>\n",
       "      <th>week_no</th>\n",
       "      <th>coupon_disc</th>\n",
       "      <th>coupon_match_disc</th>\n",
       "    </tr>\n",
       "  </thead>\n",
       "  <tbody>\n",
       "    <tr>\n",
       "      <th>2104867</th>\n",
       "      <td>2070</td>\n",
       "      <td>40618492260</td>\n",
       "      <td>594</td>\n",
       "      <td>1019940</td>\n",
       "      <td>1</td>\n",
       "      <td>1.00</td>\n",
       "      <td>311</td>\n",
       "      <td>-0.29</td>\n",
       "      <td>40</td>\n",
       "      <td>86</td>\n",
       "      <td>0.0</td>\n",
       "      <td>0.0</td>\n",
       "    </tr>\n",
       "    <tr>\n",
       "      <th>2107468</th>\n",
       "      <td>2021</td>\n",
       "      <td>40618753059</td>\n",
       "      <td>594</td>\n",
       "      <td>840361</td>\n",
       "      <td>1</td>\n",
       "      <td>0.99</td>\n",
       "      <td>443</td>\n",
       "      <td>0.00</td>\n",
       "      <td>101</td>\n",
       "      <td>86</td>\n",
       "      <td>0.0</td>\n",
       "      <td>0.0</td>\n",
       "    </tr>\n",
       "    <tr>\n",
       "      <th>2107469</th>\n",
       "      <td>2021</td>\n",
       "      <td>40618753059</td>\n",
       "      <td>594</td>\n",
       "      <td>856060</td>\n",
       "      <td>1</td>\n",
       "      <td>1.77</td>\n",
       "      <td>443</td>\n",
       "      <td>-0.09</td>\n",
       "      <td>101</td>\n",
       "      <td>86</td>\n",
       "      <td>0.0</td>\n",
       "      <td>0.0</td>\n",
       "    </tr>\n",
       "    <tr>\n",
       "      <th>2107470</th>\n",
       "      <td>2021</td>\n",
       "      <td>40618753059</td>\n",
       "      <td>594</td>\n",
       "      <td>869344</td>\n",
       "      <td>1</td>\n",
       "      <td>1.67</td>\n",
       "      <td>443</td>\n",
       "      <td>-0.22</td>\n",
       "      <td>101</td>\n",
       "      <td>86</td>\n",
       "      <td>0.0</td>\n",
       "      <td>0.0</td>\n",
       "    </tr>\n",
       "    <tr>\n",
       "      <th>2107471</th>\n",
       "      <td>2021</td>\n",
       "      <td>40618753059</td>\n",
       "      <td>594</td>\n",
       "      <td>896862</td>\n",
       "      <td>2</td>\n",
       "      <td>5.00</td>\n",
       "      <td>443</td>\n",
       "      <td>-2.98</td>\n",
       "      <td>101</td>\n",
       "      <td>86</td>\n",
       "      <td>0.0</td>\n",
       "      <td>0.0</td>\n",
       "    </tr>\n",
       "  </tbody>\n",
       "</table>\n",
       "</div>"
      ],
      "text/plain": [
       "         user_id    basket_id  day  item_id  quantity  sales_value  store_id  \\\n",
       "2104867     2070  40618492260  594  1019940         1         1.00       311   \n",
       "2107468     2021  40618753059  594   840361         1         0.99       443   \n",
       "2107469     2021  40618753059  594   856060         1         1.77       443   \n",
       "2107470     2021  40618753059  594   869344         1         1.67       443   \n",
       "2107471     2021  40618753059  594   896862         2         5.00       443   \n",
       "\n",
       "         retail_disc  trans_time  week_no  coupon_disc  coupon_match_disc  \n",
       "2104867        -0.29          40       86          0.0                0.0  \n",
       "2107468         0.00         101       86          0.0                0.0  \n",
       "2107469        -0.09         101       86          0.0                0.0  \n",
       "2107470        -0.22         101       86          0.0                0.0  \n",
       "2107471        -2.98         101       86          0.0                0.0  "
      ]
     },
     "execution_count": 43,
     "metadata": {},
     "output_type": "execute_result"
    }
   ],
   "source": [
    "data_train_ranker.head(5) #6 недель"
   ]
  },
  {
   "cell_type": "markdown",
   "id": "1f2a6a21",
   "metadata": {},
   "source": [
    "### user"
   ]
  },
  {
   "cell_type": "code",
   "execution_count": 44,
   "id": "9e126705",
   "metadata": {},
   "outputs": [
    {
     "data": {
      "text/plain": [
       "228800"
      ]
     },
     "execution_count": 44,
     "metadata": {},
     "output_type": "execute_result"
    }
   ],
   "source": [
    "df_ranker_train[~df_ranker_train['user_id'].isin(user_features.user_id)].shape[0]"
   ]
  },
  {
   "cell_type": "code",
   "execution_count": 45,
   "id": "0b2639e7",
   "metadata": {},
   "outputs": [
    {
     "data": {
      "text/plain": [
       "380800"
      ]
     },
     "execution_count": 45,
     "metadata": {},
     "output_type": "execute_result"
    }
   ],
   "source": [
    "df_ranker_train['user_id'].shape[0]"
   ]
  },
  {
   "cell_type": "code",
   "execution_count": 46,
   "id": "eee52c3b",
   "metadata": {},
   "outputs": [
    {
     "data": {
      "text/plain": [
       "60.08403361344538"
      ]
     },
     "execution_count": 46,
     "metadata": {},
     "output_type": "execute_result"
    }
   ],
   "source": [
    "df_ranker_train[~df_ranker_train['user_id'].isin(user_features.user_id)].shape[0] / df_ranker_train['user_id'].shape[0] * 100"
   ]
  },
  {
   "cell_type": "markdown",
   "id": "f591332f",
   "metadata": {},
   "source": [
    "Отсутствуют данные о 60% пользователей, по этому мы не будем использовать user_features который нам дан, но сделаем небольшой свой на основе имеющихся данных из data."
   ]
  },
  {
   "cell_type": "markdown",
   "id": "e3bddc1c",
   "metadata": {},
   "source": [
    "Средний чек"
   ]
  },
  {
   "cell_type": "code",
   "execution_count": 47,
   "id": "cd87e5ab",
   "metadata": {},
   "outputs": [],
   "source": [
    "average_check = (data_train_ranker.groupby([USER_COL])['sales_value'].sum() \n",
    "                                  / data_train_ranker.groupby([USER_COL])['basket_id'].nunique()).reset_index()\n",
    "\n",
    "average_check.columns=[USER_COL, 'average_check']\n",
    "\n",
    "user_features = average_check.copy()"
   ]
  },
  {
   "cell_type": "markdown",
   "id": "96266ebf",
   "metadata": {},
   "source": [
    "Количество покупок в месяц"
   ]
  },
  {
   "cell_type": "code",
   "execution_count": 48,
   "id": "5443049c",
   "metadata": {},
   "outputs": [],
   "source": [
    "user_per_month = (data_train_ranker.groupby([USER_COL])['basket_id'].nunique() \n",
    "                                                  / ((VAL_MATCHER_WEEKS*7) / (365/12))).reset_index()\n",
    "\n",
    "user_per_month.columns=[USER_COL, 'user_per_month']\n",
    "\n",
    "user_features = user_features.merge(user_per_month, on=USER_COL, how='left')"
   ]
  },
  {
   "cell_type": "code",
   "execution_count": 49,
   "id": "6807a9d4",
   "metadata": {},
   "outputs": [
    {
     "data": {
      "text/html": [
       "<div>\n",
       "<style scoped>\n",
       "    .dataframe tbody tr th:only-of-type {\n",
       "        vertical-align: middle;\n",
       "    }\n",
       "\n",
       "    .dataframe tbody tr th {\n",
       "        vertical-align: top;\n",
       "    }\n",
       "\n",
       "    .dataframe thead th {\n",
       "        text-align: right;\n",
       "    }\n",
       "</style>\n",
       "<table border=\"1\" class=\"dataframe\">\n",
       "  <thead>\n",
       "    <tr style=\"text-align: right;\">\n",
       "      <th></th>\n",
       "      <th>user_id</th>\n",
       "      <th>average_check</th>\n",
       "      <th>user_per_month</th>\n",
       "    </tr>\n",
       "  </thead>\n",
       "  <tbody>\n",
       "    <tr>\n",
       "      <th>0</th>\n",
       "      <td>1</td>\n",
       "      <td>48.825714</td>\n",
       "      <td>5.069444</td>\n",
       "    </tr>\n",
       "    <tr>\n",
       "      <th>1</th>\n",
       "      <td>6</td>\n",
       "      <td>20.562500</td>\n",
       "      <td>11.587302</td>\n",
       "    </tr>\n",
       "  </tbody>\n",
       "</table>\n",
       "</div>"
      ],
      "text/plain": [
       "   user_id  average_check  user_per_month\n",
       "0        1      48.825714        5.069444\n",
       "1        6      20.562500       11.587302"
      ]
     },
     "execution_count": 49,
     "metadata": {},
     "output_type": "execute_result"
    }
   ],
   "source": [
    "user_features.head(2)"
   ]
  },
  {
   "cell_type": "markdown",
   "id": "8d30d822",
   "metadata": {},
   "source": [
    "### item"
   ]
  },
  {
   "cell_type": "code",
   "execution_count": 50,
   "id": "41b4a81b",
   "metadata": {},
   "outputs": [
    {
     "data": {
      "text/html": [
       "<div>\n",
       "<style scoped>\n",
       "    .dataframe tbody tr th:only-of-type {\n",
       "        vertical-align: middle;\n",
       "    }\n",
       "\n",
       "    .dataframe tbody tr th {\n",
       "        vertical-align: top;\n",
       "    }\n",
       "\n",
       "    .dataframe thead th {\n",
       "        text-align: right;\n",
       "    }\n",
       "</style>\n",
       "<table border=\"1\" class=\"dataframe\">\n",
       "  <thead>\n",
       "    <tr style=\"text-align: right;\">\n",
       "      <th></th>\n",
       "      <th>item_id</th>\n",
       "      <th>manufacturer</th>\n",
       "      <th>department</th>\n",
       "      <th>brand</th>\n",
       "      <th>commodity_desc</th>\n",
       "      <th>sub_commodity_desc</th>\n",
       "      <th>curr_size_of_product</th>\n",
       "    </tr>\n",
       "  </thead>\n",
       "  <tbody>\n",
       "    <tr>\n",
       "      <th>0</th>\n",
       "      <td>25671</td>\n",
       "      <td>2</td>\n",
       "      <td>GROCERY</td>\n",
       "      <td>National</td>\n",
       "      <td>FRZN ICE</td>\n",
       "      <td>ICE - CRUSHED/CUBED</td>\n",
       "      <td>22 LB</td>\n",
       "    </tr>\n",
       "    <tr>\n",
       "      <th>1</th>\n",
       "      <td>26081</td>\n",
       "      <td>2</td>\n",
       "      <td>MISC. TRANS.</td>\n",
       "      <td>National</td>\n",
       "      <td>NO COMMODITY DESCRIPTION</td>\n",
       "      <td>NO SUBCOMMODITY DESCRIPTION</td>\n",
       "      <td></td>\n",
       "    </tr>\n",
       "  </tbody>\n",
       "</table>\n",
       "</div>"
      ],
      "text/plain": [
       "   item_id  manufacturer    department     brand            commodity_desc  \\\n",
       "0    25671             2       GROCERY  National                  FRZN ICE   \n",
       "1    26081             2  MISC. TRANS.  National  NO COMMODITY DESCRIPTION   \n",
       "\n",
       "            sub_commodity_desc curr_size_of_product  \n",
       "0          ICE - CRUSHED/CUBED                22 LB  \n",
       "1  NO SUBCOMMODITY DESCRIPTION                       "
      ]
     },
     "execution_count": 50,
     "metadata": {},
     "output_type": "execute_result"
    }
   ],
   "source": [
    "item_features.head(2)"
   ]
  },
  {
   "cell_type": "markdown",
   "id": "0751240e",
   "metadata": {},
   "source": [
    "Количество покупок в неделю"
   ]
  },
  {
   "cell_type": "code",
   "execution_count": 51,
   "id": "71b5593f",
   "metadata": {},
   "outputs": [],
   "source": [
    "item_per_week = (data_train_ranker.groupby([ITEM_COL])['quantity'].sum() / 6).reset_index()\n",
    "\n",
    "item_per_week.columns=[ITEM_COL, 'item_per_week']\n",
    "\n",
    "item_features = item_features.merge(item_per_week, on=ITEM_COL, how='left')\n",
    "\n",
    "item_features.item_per_week.fillna(0, inplace=True)"
   ]
  },
  {
   "cell_type": "markdown",
   "id": "e30d75e2",
   "metadata": {},
   "source": [
    "Цена"
   ]
  },
  {
   "cell_type": "code",
   "execution_count": 52,
   "id": "b78a0ec4",
   "metadata": {},
   "outputs": [
    {
     "name": "stderr",
     "output_type": "stream",
     "text": [
      "C:\\Users\\D9F8~1\\AppData\\Local\\Temp/ipykernel_3760/208773345.py:3: SettingWithCopyWarning: \n",
      "A value is trying to be set on a copy of a slice from a DataFrame.\n",
      "Try using .loc[row_indexer,col_indexer] = value instead\n",
      "\n",
      "See the caveats in the documentation: https://pandas.pydata.org/pandas-docs/stable/user_guide/indexing.html#returning-a-view-versus-a-copy\n",
      "  data_price['price'] = data_price['sales_value'] / data_price['quantity']\n"
     ]
    }
   ],
   "source": [
    "data_price = data[data['week_no'] < data['week_no'].max() - (VAL_RANKER_WEEKS)] \n",
    "\n",
    "data_price['price'] = data_price['sales_value'] / data_price['quantity']\n",
    "\n",
    "price = (data_price.groupby([ITEM_COL])['price'].first()).reset_index()\n",
    "\n",
    "item_features = item_features.merge(price, on=ITEM_COL, how='left')"
   ]
  },
  {
   "cell_type": "code",
   "execution_count": 53,
   "id": "5a6ae94f",
   "metadata": {},
   "outputs": [],
   "source": [
    "item_features.price.fillna(item_features.price.median(), inplace=True)"
   ]
  },
  {
   "cell_type": "code",
   "execution_count": 54,
   "id": "38d0b84f",
   "metadata": {},
   "outputs": [
    {
     "data": {
      "text/html": [
       "<div>\n",
       "<style scoped>\n",
       "    .dataframe tbody tr th:only-of-type {\n",
       "        vertical-align: middle;\n",
       "    }\n",
       "\n",
       "    .dataframe tbody tr th {\n",
       "        vertical-align: top;\n",
       "    }\n",
       "\n",
       "    .dataframe thead th {\n",
       "        text-align: right;\n",
       "    }\n",
       "</style>\n",
       "<table border=\"1\" class=\"dataframe\">\n",
       "  <thead>\n",
       "    <tr style=\"text-align: right;\">\n",
       "      <th></th>\n",
       "      <th>item_id</th>\n",
       "      <th>manufacturer</th>\n",
       "      <th>department</th>\n",
       "      <th>brand</th>\n",
       "      <th>commodity_desc</th>\n",
       "      <th>sub_commodity_desc</th>\n",
       "      <th>curr_size_of_product</th>\n",
       "      <th>item_per_week</th>\n",
       "      <th>price</th>\n",
       "    </tr>\n",
       "  </thead>\n",
       "  <tbody>\n",
       "    <tr>\n",
       "      <th>0</th>\n",
       "      <td>25671</td>\n",
       "      <td>2</td>\n",
       "      <td>GROCERY</td>\n",
       "      <td>National</td>\n",
       "      <td>FRZN ICE</td>\n",
       "      <td>ICE - CRUSHED/CUBED</td>\n",
       "      <td>22 LB</td>\n",
       "      <td>0.0</td>\n",
       "      <td>3.49</td>\n",
       "    </tr>\n",
       "    <tr>\n",
       "      <th>1</th>\n",
       "      <td>26081</td>\n",
       "      <td>2</td>\n",
       "      <td>MISC. TRANS.</td>\n",
       "      <td>National</td>\n",
       "      <td>NO COMMODITY DESCRIPTION</td>\n",
       "      <td>NO SUBCOMMODITY DESCRIPTION</td>\n",
       "      <td></td>\n",
       "      <td>0.0</td>\n",
       "      <td>0.99</td>\n",
       "    </tr>\n",
       "  </tbody>\n",
       "</table>\n",
       "</div>"
      ],
      "text/plain": [
       "   item_id  manufacturer    department     brand            commodity_desc  \\\n",
       "0    25671             2       GROCERY  National                  FRZN ICE   \n",
       "1    26081             2  MISC. TRANS.  National  NO COMMODITY DESCRIPTION   \n",
       "\n",
       "            sub_commodity_desc curr_size_of_product  item_per_week  price  \n",
       "0          ICE - CRUSHED/CUBED                22 LB            0.0   3.49  \n",
       "1  NO SUBCOMMODITY DESCRIPTION                                 0.0   0.99  "
      ]
     },
     "execution_count": 54,
     "metadata": {},
     "output_type": "execute_result"
    }
   ],
   "source": [
    "item_features.head(2)"
   ]
  },
  {
   "cell_type": "markdown",
   "id": "7941869b",
   "metadata": {},
   "source": [
    "### user-item"
   ]
  },
  {
   "cell_type": "code",
   "execution_count": 55,
   "id": "f4a03d9a",
   "metadata": {},
   "outputs": [
    {
     "data": {
      "text/html": [
       "<div>\n",
       "<style scoped>\n",
       "    .dataframe tbody tr th:only-of-type {\n",
       "        vertical-align: middle;\n",
       "    }\n",
       "\n",
       "    .dataframe tbody tr th {\n",
       "        vertical-align: top;\n",
       "    }\n",
       "\n",
       "    .dataframe thead th {\n",
       "        text-align: right;\n",
       "    }\n",
       "</style>\n",
       "<table border=\"1\" class=\"dataframe\">\n",
       "  <thead>\n",
       "    <tr style=\"text-align: right;\">\n",
       "      <th></th>\n",
       "      <th>user_id</th>\n",
       "      <th>item_id</th>\n",
       "      <th>target</th>\n",
       "      <th>manufacturer</th>\n",
       "      <th>department</th>\n",
       "      <th>brand</th>\n",
       "      <th>commodity_desc</th>\n",
       "      <th>sub_commodity_desc</th>\n",
       "      <th>curr_size_of_product</th>\n",
       "      <th>item_per_week</th>\n",
       "      <th>price</th>\n",
       "      <th>average_check</th>\n",
       "      <th>user_per_month</th>\n",
       "    </tr>\n",
       "  </thead>\n",
       "  <tbody>\n",
       "    <tr>\n",
       "      <th>0</th>\n",
       "      <td>2070</td>\n",
       "      <td>1004906</td>\n",
       "      <td>0.0</td>\n",
       "      <td>69</td>\n",
       "      <td>PRODUCE</td>\n",
       "      <td>Private</td>\n",
       "      <td>POTATOES</td>\n",
       "      <td>POTATOES RUSSET (BULK&amp;BAG)</td>\n",
       "      <td>5 LB</td>\n",
       "      <td>37.333333</td>\n",
       "      <td>1.39</td>\n",
       "      <td>14.355581</td>\n",
       "      <td>31.140873</td>\n",
       "    </tr>\n",
       "    <tr>\n",
       "      <th>1</th>\n",
       "      <td>2070</td>\n",
       "      <td>1082185</td>\n",
       "      <td>1.0</td>\n",
       "      <td>2</td>\n",
       "      <td>PRODUCE</td>\n",
       "      <td>National</td>\n",
       "      <td>TROPICAL FRUIT</td>\n",
       "      <td>BANANAS</td>\n",
       "      <td>40 LB</td>\n",
       "      <td>302.333333</td>\n",
       "      <td>1.21</td>\n",
       "      <td>14.355581</td>\n",
       "      <td>31.140873</td>\n",
       "    </tr>\n",
       "  </tbody>\n",
       "</table>\n",
       "</div>"
      ],
      "text/plain": [
       "   user_id  item_id  target  manufacturer department     brand  \\\n",
       "0     2070  1004906     0.0            69    PRODUCE   Private   \n",
       "1     2070  1082185     1.0             2    PRODUCE  National   \n",
       "\n",
       "   commodity_desc          sub_commodity_desc curr_size_of_product  \\\n",
       "0        POTATOES  POTATOES RUSSET (BULK&BAG)                 5 LB   \n",
       "1  TROPICAL FRUIT                     BANANAS                40 LB   \n",
       "\n",
       "   item_per_week  price  average_check  user_per_month  \n",
       "0      37.333333   1.39      14.355581       31.140873  \n",
       "1     302.333333   1.21      14.355581       31.140873  "
      ]
     },
     "execution_count": 55,
     "metadata": {},
     "output_type": "execute_result"
    }
   ],
   "source": [
    "df_ranker_train = df_ranker_train.merge(item_features, on=ITEM_COL, how='left')\n",
    "df_ranker_train = df_ranker_train.merge(user_features, on=USER_COL, how='left')\n",
    "\n",
    "df_ranker_train.head(2)"
   ]
  },
  {
   "cell_type": "code",
   "execution_count": 56,
   "id": "e7e88f5f",
   "metadata": {},
   "outputs": [
    {
     "data": {
      "text/plain": [
       "0"
      ]
     },
     "execution_count": 56,
     "metadata": {},
     "output_type": "execute_result"
    }
   ],
   "source": [
    "df_ranker_train.isna().sum().sum()"
   ]
  },
  {
   "cell_type": "markdown",
   "id": "8141d426",
   "metadata": {},
   "source": [
    "Пропусков нету, это отлично!"
   ]
  },
  {
   "cell_type": "code",
   "execution_count": 57,
   "id": "e811f4e6",
   "metadata": {},
   "outputs": [],
   "source": [
    "X_train = df_ranker_train.drop('target', axis=1)\n",
    "y_train = df_ranker_train[['target']]"
   ]
  },
  {
   "cell_type": "code",
   "execution_count": 58,
   "id": "8897cfbe",
   "metadata": {},
   "outputs": [
    {
     "data": {
      "text/plain": [
       "['manufacturer',\n",
       " 'department',\n",
       " 'brand',\n",
       " 'commodity_desc',\n",
       " 'sub_commodity_desc',\n",
       " 'curr_size_of_product',\n",
       " 'item_per_week',\n",
       " 'price',\n",
       " 'average_check',\n",
       " 'user_per_month']"
      ]
     },
     "execution_count": 58,
     "metadata": {},
     "output_type": "execute_result"
    }
   ],
   "source": [
    "cat_feats = X_train.columns[2:].tolist()\n",
    "X_train[cat_feats] = X_train[cat_feats].astype('category')\n",
    "\n",
    "cat_feats"
   ]
  },
  {
   "cell_type": "markdown",
   "id": "6f13efcf",
   "metadata": {},
   "source": [
    "### Обучение модели ранжирования"
   ]
  },
  {
   "cell_type": "code",
   "execution_count": 59,
   "id": "b0fee217",
   "metadata": {},
   "outputs": [
    {
     "name": "stderr",
     "output_type": "stream",
     "text": [
      "D:\\anakonda\\lib\\site-packages\\sklearn\\preprocessing\\_label.py:98: DataConversionWarning: A column-vector y was passed when a 1d array was expected. Please change the shape of y to (n_samples, ), for example using ravel().\n",
      "  y = column_or_1d(y, warn=True)\n",
      "D:\\anakonda\\lib\\site-packages\\sklearn\\preprocessing\\_label.py:133: DataConversionWarning: A column-vector y was passed when a 1d array was expected. Please change the shape of y to (n_samples, ), for example using ravel().\n",
      "  y = column_or_1d(y, warn=True)\n",
      "C:\\Users\\Константин\\AppData\\Roaming\\Python\\Python38\\site-packages\\lightgbm\\basic.py:1513: UserWarning: categorical_column in param dict is overridden.\n",
      "  _log_warning(f'{cat_alias} in param dict is overridden.')\n"
     ]
    },
    {
     "name": "stdout",
     "output_type": "stream",
     "text": [
      "Wall time: 11.8 s\n"
     ]
    }
   ],
   "source": [
    "%%time\n",
    "\n",
    "lgb = LGBMClassifier(objective='binary',\n",
    "                     max_depth=8,\n",
    "                     n_estimators=300,\n",
    "                     learning_rate=0.05,\n",
    "                     categorical_column=cat_feats)\n",
    "\n",
    "lgb.fit(X_train, y_train)\n",
    "\n",
    "train_preds = lgb.predict_proba(X_train)"
   ]
  },
  {
   "cell_type": "code",
   "execution_count": 60,
   "id": "9c41013f",
   "metadata": {},
   "outputs": [],
   "source": [
    "df_ranker_predict = df_ranker_train.copy()"
   ]
  },
  {
   "cell_type": "code",
   "execution_count": 61,
   "id": "40939f6d",
   "metadata": {},
   "outputs": [],
   "source": [
    "df_ranker_predict['proba_item_purchase'] = train_preds[:,1]"
   ]
  },
  {
   "cell_type": "code",
   "execution_count": 62,
   "id": "8a60735d",
   "metadata": {},
   "outputs": [
    {
     "data": {
      "text/html": [
       "<div>\n",
       "<style scoped>\n",
       "    .dataframe tbody tr th:only-of-type {\n",
       "        vertical-align: middle;\n",
       "    }\n",
       "\n",
       "    .dataframe tbody tr th {\n",
       "        vertical-align: top;\n",
       "    }\n",
       "\n",
       "    .dataframe thead th {\n",
       "        text-align: right;\n",
       "    }\n",
       "</style>\n",
       "<table border=\"1\" class=\"dataframe\">\n",
       "  <thead>\n",
       "    <tr style=\"text-align: right;\">\n",
       "      <th></th>\n",
       "      <th>user_id</th>\n",
       "      <th>item_id</th>\n",
       "      <th>target</th>\n",
       "      <th>manufacturer</th>\n",
       "      <th>department</th>\n",
       "      <th>brand</th>\n",
       "      <th>commodity_desc</th>\n",
       "      <th>sub_commodity_desc</th>\n",
       "      <th>curr_size_of_product</th>\n",
       "      <th>item_per_week</th>\n",
       "      <th>price</th>\n",
       "      <th>average_check</th>\n",
       "      <th>user_per_month</th>\n",
       "      <th>proba_item_purchase</th>\n",
       "    </tr>\n",
       "  </thead>\n",
       "  <tbody>\n",
       "    <tr>\n",
       "      <th>0</th>\n",
       "      <td>2070</td>\n",
       "      <td>1004906</td>\n",
       "      <td>0.0</td>\n",
       "      <td>69</td>\n",
       "      <td>PRODUCE</td>\n",
       "      <td>Private</td>\n",
       "      <td>POTATOES</td>\n",
       "      <td>POTATOES RUSSET (BULK&amp;BAG)</td>\n",
       "      <td>5 LB</td>\n",
       "      <td>37.333333</td>\n",
       "      <td>1.39</td>\n",
       "      <td>14.355581</td>\n",
       "      <td>31.140873</td>\n",
       "      <td>0.332876</td>\n",
       "    </tr>\n",
       "    <tr>\n",
       "      <th>1</th>\n",
       "      <td>2070</td>\n",
       "      <td>1082185</td>\n",
       "      <td>1.0</td>\n",
       "      <td>2</td>\n",
       "      <td>PRODUCE</td>\n",
       "      <td>National</td>\n",
       "      <td>TROPICAL FRUIT</td>\n",
       "      <td>BANANAS</td>\n",
       "      <td>40 LB</td>\n",
       "      <td>302.333333</td>\n",
       "      <td>1.21</td>\n",
       "      <td>14.355581</td>\n",
       "      <td>31.140873</td>\n",
       "      <td>0.685154</td>\n",
       "    </tr>\n",
       "    <tr>\n",
       "      <th>2</th>\n",
       "      <td>2070</td>\n",
       "      <td>1056509</td>\n",
       "      <td>0.0</td>\n",
       "      <td>69</td>\n",
       "      <td>GROCERY</td>\n",
       "      <td>Private</td>\n",
       "      <td>MILK BY-PRODUCTS</td>\n",
       "      <td>COTTAGE CHEESE</td>\n",
       "      <td>24 OZ</td>\n",
       "      <td>22.500000</td>\n",
       "      <td>2.09</td>\n",
       "      <td>14.355581</td>\n",
       "      <td>31.140873</td>\n",
       "      <td>0.351989</td>\n",
       "    </tr>\n",
       "    <tr>\n",
       "      <th>3</th>\n",
       "      <td>2070</td>\n",
       "      <td>871756</td>\n",
       "      <td>0.0</td>\n",
       "      <td>317</td>\n",
       "      <td>GROCERY</td>\n",
       "      <td>National</td>\n",
       "      <td>SALD DRSNG/SNDWCH SPRD</td>\n",
       "      <td>SEMI-SOLID SALAD DRESSING MAY</td>\n",
       "      <td>32 OZ</td>\n",
       "      <td>17.166667</td>\n",
       "      <td>2.00</td>\n",
       "      <td>14.355581</td>\n",
       "      <td>31.140873</td>\n",
       "      <td>0.302239</td>\n",
       "    </tr>\n",
       "    <tr>\n",
       "      <th>4</th>\n",
       "      <td>2070</td>\n",
       "      <td>897954</td>\n",
       "      <td>0.0</td>\n",
       "      <td>4303</td>\n",
       "      <td>MEAT</td>\n",
       "      <td>National</td>\n",
       "      <td>CHICKEN</td>\n",
       "      <td>CHICKEN BREAST BONELESS</td>\n",
       "      <td></td>\n",
       "      <td>12.333333</td>\n",
       "      <td>4.13</td>\n",
       "      <td>14.355581</td>\n",
       "      <td>31.140873</td>\n",
       "      <td>0.173262</td>\n",
       "    </tr>\n",
       "    <tr>\n",
       "      <th>5</th>\n",
       "      <td>2070</td>\n",
       "      <td>861279</td>\n",
       "      <td>0.0</td>\n",
       "      <td>1322</td>\n",
       "      <td>GROCERY</td>\n",
       "      <td>National</td>\n",
       "      <td>CONDIMENTS/SAUCES</td>\n",
       "      <td>STEAK &amp; WORCHESTER SAUCE</td>\n",
       "      <td>10 OZ</td>\n",
       "      <td>5.666667</td>\n",
       "      <td>4.19</td>\n",
       "      <td>14.355581</td>\n",
       "      <td>31.140873</td>\n",
       "      <td>0.104410</td>\n",
       "    </tr>\n",
       "    <tr>\n",
       "      <th>6</th>\n",
       "      <td>2070</td>\n",
       "      <td>1005186</td>\n",
       "      <td>0.0</td>\n",
       "      <td>2</td>\n",
       "      <td>SALAD BAR</td>\n",
       "      <td>National</td>\n",
       "      <td>SALAD BAR</td>\n",
       "      <td>SALAD BAR FRESH FRUIT</td>\n",
       "      <td></td>\n",
       "      <td>59.166667</td>\n",
       "      <td>1.29</td>\n",
       "      <td>14.355581</td>\n",
       "      <td>31.140873</td>\n",
       "      <td>0.430334</td>\n",
       "    </tr>\n",
       "    <tr>\n",
       "      <th>7</th>\n",
       "      <td>2070</td>\n",
       "      <td>1074754</td>\n",
       "      <td>0.0</td>\n",
       "      <td>1075</td>\n",
       "      <td>GROCERY</td>\n",
       "      <td>National</td>\n",
       "      <td>COOKIES/CONES</td>\n",
       "      <td>SANDWICH COOKIES</td>\n",
       "      <td>18 OZ</td>\n",
       "      <td>5.833333</td>\n",
       "      <td>2.97</td>\n",
       "      <td>14.355581</td>\n",
       "      <td>31.140873</td>\n",
       "      <td>0.142173</td>\n",
       "    </tr>\n",
       "    <tr>\n",
       "      <th>8</th>\n",
       "      <td>2070</td>\n",
       "      <td>1081177</td>\n",
       "      <td>0.0</td>\n",
       "      <td>2</td>\n",
       "      <td>PRODUCE</td>\n",
       "      <td>National</td>\n",
       "      <td>TOMATOES</td>\n",
       "      <td>TOMATOES VINE RIPE BULK</td>\n",
       "      <td>15 LB</td>\n",
       "      <td>19.833333</td>\n",
       "      <td>1.00</td>\n",
       "      <td>14.355581</td>\n",
       "      <td>31.140873</td>\n",
       "      <td>0.219750</td>\n",
       "    </tr>\n",
       "  </tbody>\n",
       "</table>\n",
       "</div>"
      ],
      "text/plain": [
       "   user_id  item_id  target  manufacturer department     brand  \\\n",
       "0     2070  1004906     0.0            69    PRODUCE   Private   \n",
       "1     2070  1082185     1.0             2    PRODUCE  National   \n",
       "2     2070  1056509     0.0            69    GROCERY   Private   \n",
       "3     2070   871756     0.0           317    GROCERY  National   \n",
       "4     2070   897954     0.0          4303       MEAT  National   \n",
       "5     2070   861279     0.0          1322    GROCERY  National   \n",
       "6     2070  1005186     0.0             2  SALAD BAR  National   \n",
       "7     2070  1074754     0.0          1075    GROCERY  National   \n",
       "8     2070  1081177     0.0             2    PRODUCE  National   \n",
       "\n",
       "           commodity_desc             sub_commodity_desc curr_size_of_product  \\\n",
       "0                POTATOES     POTATOES RUSSET (BULK&BAG)                 5 LB   \n",
       "1          TROPICAL FRUIT                        BANANAS                40 LB   \n",
       "2        MILK BY-PRODUCTS                 COTTAGE CHEESE                24 OZ   \n",
       "3  SALD DRSNG/SNDWCH SPRD  SEMI-SOLID SALAD DRESSING MAY                32 OZ   \n",
       "4                 CHICKEN        CHICKEN BREAST BONELESS                        \n",
       "5       CONDIMENTS/SAUCES       STEAK & WORCHESTER SAUCE                10 OZ   \n",
       "6               SALAD BAR          SALAD BAR FRESH FRUIT                        \n",
       "7           COOKIES/CONES               SANDWICH COOKIES                18 OZ   \n",
       "8                TOMATOES        TOMATOES VINE RIPE BULK                15 LB   \n",
       "\n",
       "   item_per_week  price  average_check  user_per_month  proba_item_purchase  \n",
       "0      37.333333   1.39      14.355581       31.140873             0.332876  \n",
       "1     302.333333   1.21      14.355581       31.140873             0.685154  \n",
       "2      22.500000   2.09      14.355581       31.140873             0.351989  \n",
       "3      17.166667   2.00      14.355581       31.140873             0.302239  \n",
       "4      12.333333   4.13      14.355581       31.140873             0.173262  \n",
       "5       5.666667   4.19      14.355581       31.140873             0.104410  \n",
       "6      59.166667   1.29      14.355581       31.140873             0.430334  \n",
       "7       5.833333   2.97      14.355581       31.140873             0.142173  \n",
       "8      19.833333   1.00      14.355581       31.140873             0.219750  "
      ]
     },
     "execution_count": 62,
     "metadata": {},
     "output_type": "execute_result"
    }
   ],
   "source": [
    "df_ranker_predict.head(9)"
   ]
  },
  {
   "cell_type": "code",
   "execution_count": 63,
   "id": "39c19e2a",
   "metadata": {},
   "outputs": [
    {
     "data": {
      "text/plain": [
       "(380800, 14)"
      ]
     },
     "execution_count": 63,
     "metadata": {},
     "output_type": "execute_result"
    }
   ],
   "source": [
    "df_ranker_predict.shape"
   ]
  },
  {
   "cell_type": "code",
   "execution_count": 64,
   "id": "feba3ab1",
   "metadata": {},
   "outputs": [
    {
     "data": {
      "text/html": [
       "<div>\n",
       "<style scoped>\n",
       "    .dataframe tbody tr th:only-of-type {\n",
       "        vertical-align: middle;\n",
       "    }\n",
       "\n",
       "    .dataframe tbody tr th {\n",
       "        vertical-align: top;\n",
       "    }\n",
       "\n",
       "    .dataframe thead th {\n",
       "        text-align: right;\n",
       "    }\n",
       "</style>\n",
       "<table border=\"1\" class=\"dataframe\">\n",
       "  <thead>\n",
       "    <tr style=\"text-align: right;\">\n",
       "      <th></th>\n",
       "      <th>user_id</th>\n",
       "      <th>item_id</th>\n",
       "      <th>target</th>\n",
       "      <th>manufacturer</th>\n",
       "      <th>department</th>\n",
       "      <th>brand</th>\n",
       "      <th>commodity_desc</th>\n",
       "      <th>sub_commodity_desc</th>\n",
       "      <th>curr_size_of_product</th>\n",
       "      <th>item_per_week</th>\n",
       "      <th>price</th>\n",
       "      <th>average_check</th>\n",
       "      <th>user_per_month</th>\n",
       "      <th>proba_item_purchase</th>\n",
       "    </tr>\n",
       "  </thead>\n",
       "  <tbody>\n",
       "    <tr>\n",
       "      <th>1</th>\n",
       "      <td>2070</td>\n",
       "      <td>1082185</td>\n",
       "      <td>1.0</td>\n",
       "      <td>2</td>\n",
       "      <td>PRODUCE</td>\n",
       "      <td>National</td>\n",
       "      <td>TROPICAL FRUIT</td>\n",
       "      <td>BANANAS</td>\n",
       "      <td>40 LB</td>\n",
       "      <td>302.333333</td>\n",
       "      <td>1.21</td>\n",
       "      <td>14.355581</td>\n",
       "      <td>31.140873</td>\n",
       "      <td>0.685154</td>\n",
       "    </tr>\n",
       "    <tr>\n",
       "      <th>113</th>\n",
       "      <td>2070</td>\n",
       "      <td>995242</td>\n",
       "      <td>1.0</td>\n",
       "      <td>69</td>\n",
       "      <td>GROCERY</td>\n",
       "      <td>Private</td>\n",
       "      <td>FLUID MILK PRODUCTS</td>\n",
       "      <td>FLUID MILK WHITE ONLY</td>\n",
       "      <td></td>\n",
       "      <td>188.833333</td>\n",
       "      <td>1.99</td>\n",
       "      <td>14.355581</td>\n",
       "      <td>31.140873</td>\n",
       "      <td>0.607152</td>\n",
       "    </tr>\n",
       "    <tr>\n",
       "      <th>102</th>\n",
       "      <td>2070</td>\n",
       "      <td>989101</td>\n",
       "      <td>1.0</td>\n",
       "      <td>69</td>\n",
       "      <td>GROCERY</td>\n",
       "      <td>Private</td>\n",
       "      <td>WATER - CARBONATED/FLVRD DRINK</td>\n",
       "      <td>NON-CRBNTD DRNKING/MNERAL WATE</td>\n",
       "      <td>GAL</td>\n",
       "      <td>20.000000</td>\n",
       "      <td>0.69</td>\n",
       "      <td>14.355581</td>\n",
       "      <td>31.140873</td>\n",
       "      <td>0.559756</td>\n",
       "    </tr>\n",
       "    <tr>\n",
       "      <th>41</th>\n",
       "      <td>2070</td>\n",
       "      <td>834117</td>\n",
       "      <td>1.0</td>\n",
       "      <td>69</td>\n",
       "      <td>GROCERY</td>\n",
       "      <td>Private</td>\n",
       "      <td>WATER - CARBONATED/FLVRD DRINK</td>\n",
       "      <td>NON-CRBNTD DRNKING/MNERAL WATE</td>\n",
       "      <td>405.6 OZ</td>\n",
       "      <td>10.833333</td>\n",
       "      <td>3.99</td>\n",
       "      <td>14.355581</td>\n",
       "      <td>31.140873</td>\n",
       "      <td>0.532696</td>\n",
       "    </tr>\n",
       "    <tr>\n",
       "      <th>19</th>\n",
       "      <td>2070</td>\n",
       "      <td>962568</td>\n",
       "      <td>1.0</td>\n",
       "      <td>2</td>\n",
       "      <td>PRODUCE</td>\n",
       "      <td>National</td>\n",
       "      <td>VEGETABLES - ALL OTHERS</td>\n",
       "      <td>CELERY</td>\n",
       "      <td></td>\n",
       "      <td>68.833333</td>\n",
       "      <td>1.29</td>\n",
       "      <td>14.355581</td>\n",
       "      <td>31.140873</td>\n",
       "      <td>0.526068</td>\n",
       "    </tr>\n",
       "    <tr>\n",
       "      <th>...</th>\n",
       "      <td>...</td>\n",
       "      <td>...</td>\n",
       "      <td>...</td>\n",
       "      <td>...</td>\n",
       "      <td>...</td>\n",
       "      <td>...</td>\n",
       "      <td>...</td>\n",
       "      <td>...</td>\n",
       "      <td>...</td>\n",
       "      <td>...</td>\n",
       "      <td>...</td>\n",
       "      <td>...</td>\n",
       "      <td>...</td>\n",
       "      <td>...</td>\n",
       "    </tr>\n",
       "    <tr>\n",
       "      <th>33</th>\n",
       "      <td>2070</td>\n",
       "      <td>1046545</td>\n",
       "      <td>0.0</td>\n",
       "      <td>69</td>\n",
       "      <td>PRODUCE</td>\n",
       "      <td>Private</td>\n",
       "      <td>POTATOES</td>\n",
       "      <td>POTATOES RUSSET (BULK&amp;BAG)</td>\n",
       "      <td>10 LB</td>\n",
       "      <td>0.000000</td>\n",
       "      <td>2.99</td>\n",
       "      <td>14.355581</td>\n",
       "      <td>31.140873</td>\n",
       "      <td>0.001926</td>\n",
       "    </tr>\n",
       "    <tr>\n",
       "      <th>37</th>\n",
       "      <td>2070</td>\n",
       "      <td>9527290</td>\n",
       "      <td>0.0</td>\n",
       "      <td>544</td>\n",
       "      <td>GROCERY</td>\n",
       "      <td>National</td>\n",
       "      <td>BAG SNACKS</td>\n",
       "      <td>POTATO CHIPS</td>\n",
       "      <td>11.5 OZ</td>\n",
       "      <td>0.000000</td>\n",
       "      <td>1.50</td>\n",
       "      <td>14.355581</td>\n",
       "      <td>31.140873</td>\n",
       "      <td>0.001778</td>\n",
       "    </tr>\n",
       "    <tr>\n",
       "      <th>106</th>\n",
       "      <td>2070</td>\n",
       "      <td>857215</td>\n",
       "      <td>0.0</td>\n",
       "      <td>3020</td>\n",
       "      <td>MEAT</td>\n",
       "      <td>National</td>\n",
       "      <td>PORK</td>\n",
       "      <td>LOIN - CHOPS BONELESS</td>\n",
       "      <td></td>\n",
       "      <td>0.000000</td>\n",
       "      <td>16.08</td>\n",
       "      <td>14.355581</td>\n",
       "      <td>31.140873</td>\n",
       "      <td>0.001748</td>\n",
       "    </tr>\n",
       "    <tr>\n",
       "      <th>189</th>\n",
       "      <td>2070</td>\n",
       "      <td>906923</td>\n",
       "      <td>0.0</td>\n",
       "      <td>2</td>\n",
       "      <td>PRODUCE</td>\n",
       "      <td>National</td>\n",
       "      <td>GRAPES</td>\n",
       "      <td>GRAPES WHITE</td>\n",
       "      <td>16 LB</td>\n",
       "      <td>0.000000</td>\n",
       "      <td>4.16</td>\n",
       "      <td>14.355581</td>\n",
       "      <td>31.140873</td>\n",
       "      <td>0.001659</td>\n",
       "    </tr>\n",
       "    <tr>\n",
       "      <th>112</th>\n",
       "      <td>2070</td>\n",
       "      <td>846502</td>\n",
       "      <td>0.0</td>\n",
       "      <td>693</td>\n",
       "      <td>DRUG GM</td>\n",
       "      <td>National</td>\n",
       "      <td>CANDY - PACKAGED</td>\n",
       "      <td>CANDY BAGS-CHOCOCLATE</td>\n",
       "      <td>12 OZ</td>\n",
       "      <td>0.000000</td>\n",
       "      <td>3.19</td>\n",
       "      <td>14.355581</td>\n",
       "      <td>31.140873</td>\n",
       "      <td>0.001156</td>\n",
       "    </tr>\n",
       "  </tbody>\n",
       "</table>\n",
       "<p>200 rows × 14 columns</p>\n",
       "</div>"
      ],
      "text/plain": [
       "     user_id  item_id  target  manufacturer department     brand  \\\n",
       "1       2070  1082185     1.0             2    PRODUCE  National   \n",
       "113     2070   995242     1.0            69    GROCERY   Private   \n",
       "102     2070   989101     1.0            69    GROCERY   Private   \n",
       "41      2070   834117     1.0            69    GROCERY   Private   \n",
       "19      2070   962568     1.0             2    PRODUCE  National   \n",
       "..       ...      ...     ...           ...        ...       ...   \n",
       "33      2070  1046545     0.0            69    PRODUCE   Private   \n",
       "37      2070  9527290     0.0           544    GROCERY  National   \n",
       "106     2070   857215     0.0          3020       MEAT  National   \n",
       "189     2070   906923     0.0             2    PRODUCE  National   \n",
       "112     2070   846502     0.0           693    DRUG GM  National   \n",
       "\n",
       "                     commodity_desc              sub_commodity_desc  \\\n",
       "1                    TROPICAL FRUIT                         BANANAS   \n",
       "113             FLUID MILK PRODUCTS           FLUID MILK WHITE ONLY   \n",
       "102  WATER - CARBONATED/FLVRD DRINK  NON-CRBNTD DRNKING/MNERAL WATE   \n",
       "41   WATER - CARBONATED/FLVRD DRINK  NON-CRBNTD DRNKING/MNERAL WATE   \n",
       "19          VEGETABLES - ALL OTHERS                          CELERY   \n",
       "..                              ...                             ...   \n",
       "33                         POTATOES      POTATOES RUSSET (BULK&BAG)   \n",
       "37                       BAG SNACKS                    POTATO CHIPS   \n",
       "106                            PORK           LOIN - CHOPS BONELESS   \n",
       "189                          GRAPES                    GRAPES WHITE   \n",
       "112                CANDY - PACKAGED           CANDY BAGS-CHOCOCLATE   \n",
       "\n",
       "    curr_size_of_product  item_per_week  price  average_check  user_per_month  \\\n",
       "1                  40 LB     302.333333   1.21      14.355581       31.140873   \n",
       "113                          188.833333   1.99      14.355581       31.140873   \n",
       "102                  GAL      20.000000   0.69      14.355581       31.140873   \n",
       "41              405.6 OZ      10.833333   3.99      14.355581       31.140873   \n",
       "19                            68.833333   1.29      14.355581       31.140873   \n",
       "..                   ...            ...    ...            ...             ...   \n",
       "33                 10 LB       0.000000   2.99      14.355581       31.140873   \n",
       "37               11.5 OZ       0.000000   1.50      14.355581       31.140873   \n",
       "106                            0.000000  16.08      14.355581       31.140873   \n",
       "189                16 LB       0.000000   4.16      14.355581       31.140873   \n",
       "112                12 OZ       0.000000   3.19      14.355581       31.140873   \n",
       "\n",
       "     proba_item_purchase  \n",
       "1               0.685154  \n",
       "113             0.607152  \n",
       "102             0.559756  \n",
       "41              0.532696  \n",
       "19              0.526068  \n",
       "..                   ...  \n",
       "33              0.001926  \n",
       "37              0.001778  \n",
       "106             0.001748  \n",
       "189             0.001659  \n",
       "112             0.001156  \n",
       "\n",
       "[200 rows x 14 columns]"
      ]
     },
     "execution_count": 64,
     "metadata": {},
     "output_type": "execute_result"
    }
   ],
   "source": [
    "df_ranker_predict.loc[df_ranker_predict[USER_COL]==2070].sort_values('proba_item_purchase', ascending=False)"
   ]
  },
  {
   "cell_type": "markdown",
   "id": "34caf515",
   "metadata": {},
   "source": [
    "- Измерьте отдельно precision@5 модели 1-ого уровня и двухуровневой модели на data_val_ranker"
   ]
  },
  {
   "cell_type": "markdown",
   "id": "c14efae9",
   "metadata": {},
   "source": [
    "### Evaluation on test dataset"
   ]
  },
  {
   "cell_type": "code",
   "execution_count": 65,
   "id": "2bca4514",
   "metadata": {},
   "outputs": [
    {
     "data": {
      "text/html": [
       "<div>\n",
       "<style scoped>\n",
       "    .dataframe tbody tr th:only-of-type {\n",
       "        vertical-align: middle;\n",
       "    }\n",
       "\n",
       "    .dataframe tbody tr th {\n",
       "        vertical-align: top;\n",
       "    }\n",
       "\n",
       "    .dataframe thead th {\n",
       "        text-align: right;\n",
       "    }\n",
       "</style>\n",
       "<table border=\"1\" class=\"dataframe\">\n",
       "  <thead>\n",
       "    <tr style=\"text-align: right;\">\n",
       "      <th></th>\n",
       "      <th>user_id</th>\n",
       "      <th>actual</th>\n",
       "    </tr>\n",
       "  </thead>\n",
       "  <tbody>\n",
       "    <tr>\n",
       "      <th>0</th>\n",
       "      <td>1</td>\n",
       "      <td>[821867, 834484, 856942, 865456, 889248, 90795...</td>\n",
       "    </tr>\n",
       "    <tr>\n",
       "      <th>1</th>\n",
       "      <td>6</td>\n",
       "      <td>[920308, 926804, 946489, 1006718, 1017061, 107...</td>\n",
       "    </tr>\n",
       "  </tbody>\n",
       "</table>\n",
       "</div>"
      ],
      "text/plain": [
       "   user_id                                             actual\n",
       "0        1  [821867, 834484, 856942, 865456, 889248, 90795...\n",
       "1        6  [920308, 926804, 946489, 1006718, 1017061, 107..."
      ]
     },
     "execution_count": 65,
     "metadata": {},
     "output_type": "execute_result"
    }
   ],
   "source": [
    "result_eval_ranker = data_val_ranker.groupby(USER_COL)[ITEM_COL].unique().reset_index()\n",
    "result_eval_ranker.columns=[USER_COL, ACTUAL_COL]\n",
    "result_eval_ranker.head(2)"
   ]
  },
  {
   "cell_type": "markdown",
   "id": "925004e7",
   "metadata": {},
   "source": [
    "### Eval matching on test dataset"
   ]
  },
  {
   "cell_type": "code",
   "execution_count": 66,
   "id": "e0b9a282",
   "metadata": {},
   "outputs": [
    {
     "name": "stdout",
     "output_type": "stream",
     "text": [
      "Wall time: 36.4 s\n"
     ]
    }
   ],
   "source": [
    "%%time\n",
    "result_eval_ranker['als_rec'] = result_eval_ranker[USER_COL].apply(lambda x: recommender.get_als_recommendations(x, N=N_PREDICT))"
   ]
  },
  {
   "cell_type": "code",
   "execution_count": 67,
   "id": "2f68c96a",
   "metadata": {},
   "outputs": [
    {
     "data": {
      "text/plain": [
       "[('als_rec', 0.12636554621848656)]"
      ]
     },
     "execution_count": 67,
     "metadata": {},
     "output_type": "execute_result"
    }
   ],
   "source": [
    "# померяем precision только модели матчинга, чтобы понимать влияение ранжирования на метрики\n",
    "\n",
    "sorted(calc_precision(result_eval_ranker, TOPK_PRECISION), key=lambda x: x[1], reverse=True)"
   ]
  },
  {
   "cell_type": "markdown",
   "id": "c46967b0",
   "metadata": {},
   "source": [
    "### Eval re-ranked matched result on test dataset"
   ]
  },
  {
   "cell_type": "code",
   "execution_count": 68,
   "id": "7362a221",
   "metadata": {},
   "outputs": [],
   "source": [
    "def rerank(user_id):\n",
    "    return df_ranker_predict[df_ranker_predict[USER_COL]==user_id].sort_values('proba_item_purchase', ascending=False).head(5).item_id.tolist()"
   ]
  },
  {
   "cell_type": "code",
   "execution_count": 69,
   "id": "9f92fd07",
   "metadata": {},
   "outputs": [],
   "source": [
    "result_eval_ranker['reranked_als_rec'] = result_eval_ranker[USER_COL].apply(lambda user_id: rerank(user_id))"
   ]
  },
  {
   "cell_type": "code",
   "execution_count": 70,
   "id": "817356cb",
   "metadata": {},
   "outputs": [
    {
     "data": {
      "text/html": [
       "<div>\n",
       "<style scoped>\n",
       "    .dataframe tbody tr th:only-of-type {\n",
       "        vertical-align: middle;\n",
       "    }\n",
       "\n",
       "    .dataframe tbody tr th {\n",
       "        vertical-align: top;\n",
       "    }\n",
       "\n",
       "    .dataframe thead th {\n",
       "        text-align: right;\n",
       "    }\n",
       "</style>\n",
       "<table border=\"1\" class=\"dataframe\">\n",
       "  <thead>\n",
       "    <tr style=\"text-align: right;\">\n",
       "      <th></th>\n",
       "      <th>user_id</th>\n",
       "      <th>actual</th>\n",
       "      <th>als_rec</th>\n",
       "      <th>reranked_als_rec</th>\n",
       "    </tr>\n",
       "  </thead>\n",
       "  <tbody>\n",
       "    <tr>\n",
       "      <th>0</th>\n",
       "      <td>1</td>\n",
       "      <td>[821867, 834484, 856942, 865456, 889248, 90795...</td>\n",
       "      <td>[1033142, 940631, 1041796, 1105433, 979707, 84...</td>\n",
       "      <td>[1082185, 995242, 872137, 840361, 914190]</td>\n",
       "    </tr>\n",
       "    <tr>\n",
       "      <th>1</th>\n",
       "      <td>6</td>\n",
       "      <td>[920308, 926804, 946489, 1006718, 1017061, 107...</td>\n",
       "      <td>[904360, 878996, 849843, 866211, 5569230, 1055...</td>\n",
       "      <td>[1082185, 1098844, 962568, 981760, 862349]</td>\n",
       "    </tr>\n",
       "    <tr>\n",
       "      <th>2</th>\n",
       "      <td>7</td>\n",
       "      <td>[840386, 889774, 898068, 909714, 929067, 95347...</td>\n",
       "      <td>[987724, 985999, 849843, 5591154, 1095100, 868...</td>\n",
       "      <td>[1126899, 1058997, 849843, 1013321, 1122358]</td>\n",
       "    </tr>\n",
       "    <tr>\n",
       "      <th>3</th>\n",
       "      <td>8</td>\n",
       "      <td>[835098, 872137, 910439, 924610, 992977, 10412...</td>\n",
       "      <td>[951590, 1065593, 1091365, 1133018, 1003421, 8...</td>\n",
       "      <td>[1082185, 1106523, 833715, 1003421, 1005186]</td>\n",
       "    </tr>\n",
       "    <tr>\n",
       "      <th>4</th>\n",
       "      <td>9</td>\n",
       "      <td>[864335, 990865, 1029743, 9297474, 10457112, 8...</td>\n",
       "      <td>[862799, 1056005, 1035880, 856772, 1139471, 10...</td>\n",
       "      <td>[1029743, 1082185, 908531, 849843, 883404]</td>\n",
       "    </tr>\n",
       "    <tr>\n",
       "      <th>...</th>\n",
       "      <td>...</td>\n",
       "      <td>...</td>\n",
       "      <td>...</td>\n",
       "      <td>...</td>\n",
       "    </tr>\n",
       "    <tr>\n",
       "      <th>1899</th>\n",
       "      <td>2496</td>\n",
       "      <td>[6534178]</td>\n",
       "      <td>[911812, 914190, 5591170, 979707, 1106523, 108...</td>\n",
       "      <td>[1082185, 1106523, 1041796, 899624, 5569230]</td>\n",
       "    </tr>\n",
       "    <tr>\n",
       "      <th>1900</th>\n",
       "      <td>2497</td>\n",
       "      <td>[1016709, 9835695, 1132298, 16809501, 845294, ...</td>\n",
       "      <td>[5569230, 1042697, 995876, 1034176, 841220, 89...</td>\n",
       "      <td>[995242, 899624, 883404, 995785, 962568]</td>\n",
       "    </tr>\n",
       "    <tr>\n",
       "      <th>1901</th>\n",
       "      <td>2498</td>\n",
       "      <td>[15716530, 834484, 901776, 914190, 958382, 972...</td>\n",
       "      <td>[893501, 824555, 846550, 835576, 923673, 92536...</td>\n",
       "      <td>[1070820, 1053690, 961554, 13841744, 862349]</td>\n",
       "    </tr>\n",
       "    <tr>\n",
       "      <th>1902</th>\n",
       "      <td>2499</td>\n",
       "      <td>[867188, 877580, 902396, 914190, 951590, 95813...</td>\n",
       "      <td>[965766, 929668, 930917, 952163, 938700, 95701...</td>\n",
       "      <td>[1070820, 6534178, 883404, 6533889, 899624]</td>\n",
       "    </tr>\n",
       "    <tr>\n",
       "      <th>1903</th>\n",
       "      <td>2500</td>\n",
       "      <td>[852182, 856345, 923746, 948670, 1018007, 1044...</td>\n",
       "      <td>[995242, 1029743, 840361, 5978656, 1082185, 85...</td>\n",
       "      <td>[1082185, 6534178, 1126899, 1029743, 995242]</td>\n",
       "    </tr>\n",
       "  </tbody>\n",
       "</table>\n",
       "<p>1904 rows × 4 columns</p>\n",
       "</div>"
      ],
      "text/plain": [
       "      user_id                                             actual  \\\n",
       "0           1  [821867, 834484, 856942, 865456, 889248, 90795...   \n",
       "1           6  [920308, 926804, 946489, 1006718, 1017061, 107...   \n",
       "2           7  [840386, 889774, 898068, 909714, 929067, 95347...   \n",
       "3           8  [835098, 872137, 910439, 924610, 992977, 10412...   \n",
       "4           9  [864335, 990865, 1029743, 9297474, 10457112, 8...   \n",
       "...       ...                                                ...   \n",
       "1899     2496                                          [6534178]   \n",
       "1900     2497  [1016709, 9835695, 1132298, 16809501, 845294, ...   \n",
       "1901     2498  [15716530, 834484, 901776, 914190, 958382, 972...   \n",
       "1902     2499  [867188, 877580, 902396, 914190, 951590, 95813...   \n",
       "1903     2500  [852182, 856345, 923746, 948670, 1018007, 1044...   \n",
       "\n",
       "                                                als_rec  \\\n",
       "0     [1033142, 940631, 1041796, 1105433, 979707, 84...   \n",
       "1     [904360, 878996, 849843, 866211, 5569230, 1055...   \n",
       "2     [987724, 985999, 849843, 5591154, 1095100, 868...   \n",
       "3     [951590, 1065593, 1091365, 1133018, 1003421, 8...   \n",
       "4     [862799, 1056005, 1035880, 856772, 1139471, 10...   \n",
       "...                                                 ...   \n",
       "1899  [911812, 914190, 5591170, 979707, 1106523, 108...   \n",
       "1900  [5569230, 1042697, 995876, 1034176, 841220, 89...   \n",
       "1901  [893501, 824555, 846550, 835576, 923673, 92536...   \n",
       "1902  [965766, 929668, 930917, 952163, 938700, 95701...   \n",
       "1903  [995242, 1029743, 840361, 5978656, 1082185, 85...   \n",
       "\n",
       "                                  reranked_als_rec  \n",
       "0        [1082185, 995242, 872137, 840361, 914190]  \n",
       "1       [1082185, 1098844, 962568, 981760, 862349]  \n",
       "2     [1126899, 1058997, 849843, 1013321, 1122358]  \n",
       "3     [1082185, 1106523, 833715, 1003421, 1005186]  \n",
       "4       [1029743, 1082185, 908531, 849843, 883404]  \n",
       "...                                            ...  \n",
       "1899  [1082185, 1106523, 1041796, 899624, 5569230]  \n",
       "1900      [995242, 899624, 883404, 995785, 962568]  \n",
       "1901  [1070820, 1053690, 961554, 13841744, 862349]  \n",
       "1902   [1070820, 6534178, 883404, 6533889, 899624]  \n",
       "1903  [1082185, 6534178, 1126899, 1029743, 995242]  \n",
       "\n",
       "[1904 rows x 4 columns]"
      ]
     },
     "execution_count": 70,
     "metadata": {},
     "output_type": "execute_result"
    }
   ],
   "source": [
    "result_eval_ranker"
   ]
  },
  {
   "cell_type": "code",
   "execution_count": 71,
   "id": "403fb039",
   "metadata": {},
   "outputs": [
    {
     "name": "stdout",
     "output_type": "stream",
     "text": [
      "('reranked_als_rec', 0.31008403361344483)\n",
      "('als_rec', 0.12636554621848656)\n"
     ]
    }
   ],
   "source": [
    "print(*sorted(calc_precision(result_eval_ranker, TOPK_PRECISION), key=lambda x: x[1], reverse=True), sep='\\n')"
   ]
  },
  {
   "cell_type": "markdown",
   "id": "27907afd",
   "metadata": {},
   "source": [
    "- Вырос ли precision@5 при использовании двухуровневой модели?"
   ]
  },
  {
   "cell_type": "markdown",
   "id": "401dadca",
   "metadata": {},
   "source": [
    "ДА"
   ]
  },
  {
   "cell_type": "markdown",
   "id": "73d820dc",
   "metadata": {},
   "source": [
    "#### Памятка для курсовой\n",
    "\n",
    "#### Также нужно будет проверить данные на выбросы, перевести категориальные признаки в вещественные где это возможно, побороть дизбаланс классов, провести отбор признаков, попробывать другие модели 2-го уровня(сводная таблица как для моделей 1-го уровня) и подобрать гиперпараметры для модели 2-го уровня!!! (Написать везде коментарии к коду и расписать тз)"
   ]
  }
 ],
 "metadata": {
  "kernelspec": {
   "display_name": "Python 3 (ipykernel)",
   "language": "python",
   "name": "python3"
  },
  "language_info": {
   "codemirror_mode": {
    "name": "ipython",
    "version": 3
   },
   "file_extension": ".py",
   "mimetype": "text/x-python",
   "name": "python",
   "nbconvert_exporter": "python",
   "pygments_lexer": "ipython3",
   "version": "3.8.5"
  }
 },
 "nbformat": 4,
 "nbformat_minor": 5
}
