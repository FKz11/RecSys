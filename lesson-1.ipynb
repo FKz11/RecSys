{
 "cells": [
  {
   "cell_type": "markdown",
   "id": "d703b887",
   "metadata": {},
   "source": [
    "# lesson-1"
   ]
  },
  {
   "cell_type": "markdown",
   "id": "98fae363",
   "metadata": {},
   "source": [
    "## 1) Приведите еще примеры метрик для оценки рекомендаций/ранжирования (можно взять из интернета, или ваши знания)"
   ]
  },
  {
   "cell_type": "markdown",
   "id": "373a2c9a",
   "metadata": {},
   "source": [
    "### Метрики качества ранжирования"
   ]
  },
  {
   "cell_type": "markdown",
   "id": "d9401cdb",
   "metadata": {},
   "source": [
    "### Метрики на основе ранговой корреляции"
   ]
  },
  {
   "cell_type": "markdown",
   "id": "7e9ebf2b",
   "metadata": {},
   "source": [
    "В статистике, ранговый коэффициент корреляции — это коэффициент корреляции, который учитывает не сами значения, а лишь их ранг (порядок). Рассмотрим два наиболее распространенных ранговых коэффициента корреляции: коэффициенты Спирмена и Кендэлла."
   ]
  },
  {
   "cell_type": "markdown",
   "id": "e4b0ea0e",
   "metadata": {},
   "source": [
    "#### Ранговый коэффициент корреляции Кендэлла"
   ]
  },
  {
   "cell_type": "markdown",
   "id": "830764e3",
   "metadata": {},
   "source": [
    "Первый из них — коэффициент корреляции Кендэлла, который основан на подсчете согласованных\n",
    "(и несогласованных) пар у перестановок — пар элементов, котором перестановки присвоили одинаковый (разный) порядок."
   ]
  },
  {
   "cell_type": "markdown",
   "id": "37c62d37",
   "metadata": {},
   "source": [
    "#### Ранговый коэффициент корреляции Спирмена"
   ]
  },
  {
   "cell_type": "markdown",
   "id": "9041e761",
   "metadata": {},
   "source": [
    "Второй — ранговый коэффициент корреляции Спирмена — по сути является ни чем иным как корреляции Пирсона, посчитанной на значениях рангов."
   ]
  },
  {
   "cell_type": "markdown",
   "id": "4fcb5290",
   "metadata": {},
   "source": [
    "Метрики на основе ранговой корреляции обладают уже известными нам недостатком: они не учитывают позицию элементов (еще хуже чем p@K, т.к. корреляция считается по всем элементам, а не по K элементам с наибольшим рангом). Поэтому на практике используются крайне редко."
   ]
  },
  {
   "cell_type": "markdown",
   "id": "fe1935c8",
   "metadata": {},
   "source": [
    "### Метрики на основе каскадной модели поведения"
   ]
  },
  {
   "cell_type": "markdown",
   "id": "50e51e9c",
   "metadata": {},
   "source": [
    "Модели поведения пользователя, где изучение предложенных ему элементов происходит последовательно и вероятность просмотра элемента зависит от релевантности предыдущих называются каскадными.\n",
    "\n",
    "Например, если документы на позиции 1 и 2 оказались крайне релевантны, то вероятность того, что пользователь просмотрит документ на позиции 3 мала, т.к. он будет вполне удовлетворен первыми двумя."
   ]
  },
  {
   "cell_type": "markdown",
   "id": "4d063af0",
   "metadata": {},
   "source": [
    "#### Expected reciprocal rank"
   ]
  },
  {
   "cell_type": "markdown",
   "id": "897499e4",
   "metadata": {},
   "source": [
    "Expected reciprocal rank (ERR) — пример метрики качества ранжирования, основанной на каскадной модели."
   ]
  },
  {
   "cell_type": "markdown",
   "id": "ca26999f",
   "metadata": {},
   "source": [
    "#### PFound"
   ]
  },
  {
   "cell_type": "markdown",
   "id": "6b657d28",
   "metadata": {},
   "source": [
    "PFound — метрика качества ранжирования"
   ]
  },
  {
   "cell_type": "markdown",
   "id": "f1468311",
   "metadata": {},
   "source": [
    "## 2) Доделать все функции, где стоит комментарий \"сделать дома\""
   ]
  },
  {
   "cell_type": "code",
   "execution_count": 1,
   "id": "35c3668a",
   "metadata": {},
   "outputs": [],
   "source": [
    "import pandas as pd\n",
    "import numpy as np"
   ]
  },
  {
   "cell_type": "markdown",
   "id": "434808ca",
   "metadata": {},
   "source": [
    "### 1. Hit rate"
   ]
  },
  {
   "cell_type": "code",
   "execution_count": 2,
   "id": "78516d8b",
   "metadata": {},
   "outputs": [],
   "source": [
    "recommended_list = [15, 5231, 11341, 27, 143, 1543, 3345, 533, 11, 43] #id товаров\n",
    "bought_list = [3, 523, 1134, 143, 1, 2]"
   ]
  },
  {
   "cell_type": "code",
   "execution_count": 3,
   "id": "2ef16c90",
   "metadata": {},
   "outputs": [],
   "source": [
    "def hit_rate_at_k(recommended_list, bought_list, k=5):\n",
    "    \n",
    "    bought_list = np.array(bought_list)\n",
    "    recommended_list = np.array(recommended_list[:k])\n",
    "    \n",
    "    flags = np.isin(bought_list, recommended_list)\n",
    "    \n",
    "    hit_rate = (flags.sum() > 0) * 1\n",
    "    \n",
    "    return hit_rate"
   ]
  },
  {
   "cell_type": "code",
   "execution_count": 4,
   "id": "b6b8c2bf",
   "metadata": {},
   "outputs": [
    {
     "data": {
      "text/plain": [
       "0"
      ]
     },
     "execution_count": 4,
     "metadata": {},
     "output_type": "execute_result"
    }
   ],
   "source": [
    "hit_rate_at_k(recommended_list, bought_list, 4)"
   ]
  },
  {
   "cell_type": "code",
   "execution_count": 5,
   "id": "e72be161",
   "metadata": {},
   "outputs": [
    {
     "data": {
      "text/plain": [
       "1"
      ]
     },
     "execution_count": 5,
     "metadata": {},
     "output_type": "execute_result"
    }
   ],
   "source": [
    "hit_rate_at_k(recommended_list, bought_list, 5)"
   ]
  },
  {
   "cell_type": "code",
   "execution_count": 6,
   "id": "4914a50c",
   "metadata": {},
   "outputs": [
    {
     "data": {
      "text/plain": [
       "array([False, False, False,  True, False, False])"
      ]
     },
     "execution_count": 6,
     "metadata": {},
     "output_type": "execute_result"
    }
   ],
   "source": [
    "flags = np.isin(bought_list, recommended_list)\n",
    "flags"
   ]
  },
  {
   "cell_type": "markdown",
   "id": "65088bff",
   "metadata": {},
   "source": [
    "### 2. Precision"
   ]
  },
  {
   "cell_type": "code",
   "execution_count": 7,
   "id": "22264b23",
   "metadata": {},
   "outputs": [],
   "source": [
    "recommended_list = [143, 156, 1134, 27, 991, 1543, 3345, 533, 11, 43] #id товаров\n",
    "prices_recommended = [200, 150, 100, 50, 100, 20, 120, 100, 50, 30]\n",
    "bought_list = [521, 32, 143, 991]"
   ]
  },
  {
   "cell_type": "code",
   "execution_count": 8,
   "id": "10653e99",
   "metadata": {},
   "outputs": [],
   "source": [
    "def money_precision_at_k(recommended_list, bought_list, prices_recommended, k=5):\n",
    "        \n",
    "    bought_list = np.array(bought_list)\n",
    "    recommended_list = np.array(recommended_list[:k])\n",
    "    prices_recommended = np.array(prices_recommended[:k])\n",
    "    \n",
    "    flags = np.isin(recommended_list, bought_list)\n",
    "    \n",
    "    precision = prices_recommended[flags].sum() / prices_recommended.sum()\n",
    "    \n",
    "    return precision"
   ]
  },
  {
   "cell_type": "code",
   "execution_count": 9,
   "id": "31c097fe",
   "metadata": {},
   "outputs": [
    {
     "data": {
      "text/plain": [
       "0.4"
      ]
     },
     "execution_count": 9,
     "metadata": {},
     "output_type": "execute_result"
    }
   ],
   "source": [
    "money_precision_at_k(recommended_list, bought_list, prices_recommended, k=4)"
   ]
  },
  {
   "cell_type": "code",
   "execution_count": 10,
   "id": "d87ad4fa",
   "metadata": {},
   "outputs": [
    {
     "data": {
      "text/plain": [
       "0.5"
      ]
     },
     "execution_count": 10,
     "metadata": {},
     "output_type": "execute_result"
    }
   ],
   "source": [
    "money_precision_at_k(recommended_list, bought_list, prices_recommended, k=5)"
   ]
  },
  {
   "cell_type": "markdown",
   "id": "bf6cd245",
   "metadata": {},
   "source": [
    "### 3. Recall"
   ]
  },
  {
   "cell_type": "code",
   "execution_count": 11,
   "id": "68f95071",
   "metadata": {},
   "outputs": [],
   "source": [
    "recommended_list = [143, 156, 1134, 27, 991, 1543, 3345, 533, 11, 43] #id товаров\n",
    "bought_list = [521, 32, 143, 991]\n",
    "prices_bought = [50, 150, 200, 100]"
   ]
  },
  {
   "cell_type": "code",
   "execution_count": 12,
   "id": "332d1051",
   "metadata": {},
   "outputs": [],
   "source": [
    "def recall_at_k(recommended_list, bought_list, k=5):\n",
    "    \n",
    "    bought_list = np.array(bought_list)\n",
    "    recommended_list = np.array(recommended_list[:k])\n",
    "    \n",
    "    flags = np.isin(bought_list, recommended_list)\n",
    "    \n",
    "    recall = flags.sum() / len(bought_list)\n",
    "    \n",
    "    return recall\n",
    "\n",
    "\n",
    "def money_recall_at_k(recommended_list, bought_list, prices_bought, k=5):\n",
    "    \n",
    "    bought_list = np.array(bought_list)\n",
    "    prices_bought = np.array(prices_bought)\n",
    "    recommended_list = np.array(recommended_list[:k])\n",
    "    \n",
    "    flags = np.isin(bought_list, recommended_list)\n",
    "    \n",
    "    recall = prices_bought[flags].sum() / prices_bought.sum()\n",
    "    \n",
    "    return recall"
   ]
  },
  {
   "cell_type": "code",
   "execution_count": 13,
   "id": "f3f4436c",
   "metadata": {},
   "outputs": [
    {
     "data": {
      "text/plain": [
       "0.25"
      ]
     },
     "execution_count": 13,
     "metadata": {},
     "output_type": "execute_result"
    }
   ],
   "source": [
    "recall_at_k(recommended_list, bought_list, k=4)"
   ]
  },
  {
   "cell_type": "code",
   "execution_count": 14,
   "id": "80919038",
   "metadata": {},
   "outputs": [
    {
     "data": {
      "text/plain": [
       "0.5"
      ]
     },
     "execution_count": 14,
     "metadata": {},
     "output_type": "execute_result"
    }
   ],
   "source": [
    "recall_at_k(recommended_list, bought_list, k=5)"
   ]
  },
  {
   "cell_type": "code",
   "execution_count": 15,
   "id": "b983ab71",
   "metadata": {},
   "outputs": [
    {
     "data": {
      "text/plain": [
       "0.4"
      ]
     },
     "execution_count": 15,
     "metadata": {},
     "output_type": "execute_result"
    }
   ],
   "source": [
    "money_recall_at_k(recommended_list, bought_list, prices_bought, k=4)"
   ]
  },
  {
   "cell_type": "code",
   "execution_count": 16,
   "id": "54d67485",
   "metadata": {},
   "outputs": [
    {
     "data": {
      "text/plain": [
       "0.6"
      ]
     },
     "execution_count": 16,
     "metadata": {},
     "output_type": "execute_result"
    }
   ],
   "source": [
    "money_recall_at_k(recommended_list, bought_list, prices_bought, k=5)"
   ]
  },
  {
   "cell_type": "markdown",
   "id": "79ed2f52",
   "metadata": {},
   "source": [
    "### MAP@k"
   ]
  },
  {
   "cell_type": "code",
   "execution_count": 17,
   "id": "6a5a9161",
   "metadata": {},
   "outputs": [],
   "source": [
    "# теперь список из 3 пользователей\n",
    "recommended_list_3_users = [[143, 156, 1134, 991, 27, 1543, 3345, 533, 11, 43], \n",
    "                    [1134, 533, 14, 4, 156, 1543, 1, 99, 27, 3345],\n",
    "                    [991, 3345, 27, 533, 2, 143, 1543, 156, 1134, 11]\n",
    "                           ]\n",
    "\n",
    "bought_list_3_users = [[521, 32, 143],  # юзер 1\n",
    "                       [143, 156, 991, 43, 11], # юзер 2\n",
    "                       [1,2]] # юзер 3"
   ]
  },
  {
   "cell_type": "code",
   "execution_count": 18,
   "id": "664cc6eb",
   "metadata": {},
   "outputs": [],
   "source": [
    "def precision_at_k(recommended_list, bought_list, k=5):\n",
    "    \n",
    "    bought_list = np.array(bought_list)\n",
    "    recommended_list = np.array(recommended_list[:k])\n",
    "    \n",
    "    flags = np.isin(recommended_list, bought_list)\n",
    "    \n",
    "    precision = flags.sum() / len(recommended_list)\n",
    "    \n",
    "    \n",
    "    return precision"
   ]
  },
  {
   "cell_type": "code",
   "execution_count": 19,
   "id": "727a3671",
   "metadata": {},
   "outputs": [],
   "source": [
    "def ap_k(recommended_list, bought_list, k=5):\n",
    "    \n",
    "    bought_list = np.array(bought_list)\n",
    "    recommended_list = np.array(recommended_list)[:k]\n",
    "    \n",
    "    relevant_indexes = np.nonzero(np.isin(recommended_list, bought_list))[0]\n",
    "    \n",
    "    if len(relevant_indexes) == 0:\n",
    "        return 0\n",
    "    \n",
    "    sum_ = sum([precision_at_k(recommended_list, bought_list, k=index_relevant+1) for index_relevant in relevant_indexes])\n",
    "    \n",
    "    return sum_/len(relevant_indexes)"
   ]
  },
  {
   "cell_type": "code",
   "execution_count": 20,
   "id": "a328ba4e",
   "metadata": {},
   "outputs": [],
   "source": [
    "def map_k(recommended_lists, bought_lists, k=5):\n",
    "    \n",
    "    sum_ = sum([ap_k(recommended_lists[i], bought_lists[i], k=k) for i in range(len(bought_lists))])\n",
    "    \n",
    "    return sum_/len(bought_lists)"
   ]
  },
  {
   "cell_type": "code",
   "execution_count": 21,
   "id": "9fafa0de",
   "metadata": {},
   "outputs": [
    {
     "data": {
      "text/plain": [
       "0.3333333333333333"
      ]
     },
     "execution_count": 21,
     "metadata": {},
     "output_type": "execute_result"
    }
   ],
   "source": [
    "map_k(recommended_list_3_users, bought_list_3_users, k=4)"
   ]
  },
  {
   "cell_type": "code",
   "execution_count": 22,
   "id": "63c31a05",
   "metadata": {},
   "outputs": [
    {
     "data": {
      "text/plain": [
       "0.4666666666666666"
      ]
     },
     "execution_count": 22,
     "metadata": {},
     "output_type": "execute_result"
    }
   ],
   "source": [
    "map_k(recommended_list_3_users, bought_list_3_users, k=5)"
   ]
  },
  {
   "cell_type": "markdown",
   "id": "44b14ecd",
   "metadata": {},
   "source": [
    "### Normalized discounted cumulative gain ( NDCG@k)"
   ]
  },
  {
   "cell_type": "code",
   "execution_count": 23,
   "id": "2b52a208",
   "metadata": {},
   "outputs": [],
   "source": [
    "recommended_list = [143, 156, 1134, 27, 991, 1543, 3345, 533, 11, 43] #id товаров\n",
    "bought_list = [521, 32, 143, 991]"
   ]
  },
  {
   "cell_type": "code",
   "execution_count": 24,
   "id": "73fc2522",
   "metadata": {},
   "outputs": [],
   "source": [
    "def dcg_at_k(recommended_list, bought_list, k=5):\n",
    "    \n",
    "    bought_list = np.array(bought_list)\n",
    "    recommended_list = np.array(recommended_list[:k])\n",
    "    \n",
    "    flags = np.isin(recommended_list, bought_list).astype(int)\n",
    "    \n",
    "    sum_ = sum([flags[i]/np.log2(i+1) if i+1 > 2 else flags[i]/(i+1) for i in range(k)])\n",
    "    \n",
    "    return sum_/k"
   ]
  },
  {
   "cell_type": "code",
   "execution_count": 25,
   "id": "9212e32a",
   "metadata": {},
   "outputs": [],
   "source": [
    "def ndcg_at_k(recommended_list, bought_list, k=5):\n",
    "    \n",
    "    dcg = dcg_at_k(recommended_list, bought_list, k=k)\n",
    "    ideal_dcg = sum([1/np.log2(i+1) if i+1 > 2 else 1/(i+1) for i in range(k)])/k\n",
    "    \n",
    "    return dcg/ideal_dcg"
   ]
  },
  {
   "cell_type": "code",
   "execution_count": 26,
   "id": "cf0b8d88",
   "metadata": {},
   "outputs": [
    {
     "data": {
      "text/plain": [
       "0.38009376671593426"
      ]
     },
     "execution_count": 26,
     "metadata": {},
     "output_type": "execute_result"
    }
   ],
   "source": [
    "ndcg_at_k(recommended_list, bought_list, k=4)"
   ]
  },
  {
   "cell_type": "code",
   "execution_count": 27,
   "id": "9be683b2",
   "metadata": {},
   "outputs": [
    {
     "data": {
      "text/plain": [
       "0.46729605718142153"
      ]
     },
     "execution_count": 27,
     "metadata": {},
     "output_type": "execute_result"
    }
   ],
   "source": [
    "ndcg_at_k(recommended_list, bought_list, k=5)"
   ]
  },
  {
   "cell_type": "markdown",
   "id": "fd07dc95",
   "metadata": {},
   "source": [
    "### Mean Reciprocal Rank ( MRR@k )"
   ]
  },
  {
   "cell_type": "code",
   "execution_count": 28,
   "id": "5d7d97e5",
   "metadata": {},
   "outputs": [],
   "source": [
    "# теперь список из 3 пользователей\n",
    "recommended_list_3_users = [[143, 156, 1134, 991, 27, 1543, 3345, 533, 11, 43], \n",
    "                    [1134, 533, 14, 4, 156, 1543, 1, 99, 27, 3345],\n",
    "                    [991, 3345, 27, 533, 2, 143, 1543, 156, 1134, 11]\n",
    "                           ]\n",
    "\n",
    "bought_list_3_users = [[521, 32, 143],  # юзер 1\n",
    "                       [143, 156, 991, 43, 11], # юзер 2\n",
    "                       [1,2]] # юзер 3"
   ]
  },
  {
   "cell_type": "code",
   "execution_count": 29,
   "id": "78c5f4a4",
   "metadata": {},
   "outputs": [],
   "source": [
    "def two_cycles(first_list, second_list):\n",
    "    for i in first_list:\n",
    "        for j in second_list:\n",
    "            yield i, j"
   ]
  },
  {
   "cell_type": "code",
   "execution_count": 30,
   "id": "2d469b78",
   "metadata": {},
   "outputs": [],
   "source": [
    "def reciprocal_rank(recommended_list, bought_list, k=5):\n",
    "    \n",
    "    bought_list = np.array(bought_list)\n",
    "    recommended_list = np.array(recommended_list)[:k]\n",
    "    \n",
    "    rank = None\n",
    "    \n",
    "    for i, bought in two_cycles(range(len(recommended_list)), bought_list):\n",
    "        if recommended_list[i] == bought:\n",
    "            rank = i+1\n",
    "            break\n",
    "    \n",
    "    if rank is None:\n",
    "        return 0\n",
    "    \n",
    "    return 1/rank"
   ]
  },
  {
   "cell_type": "code",
   "execution_count": 31,
   "id": "a842ce7c",
   "metadata": {},
   "outputs": [],
   "source": [
    "def mrr_k(recommended_lists, bought_lists, k=5):\n",
    "    \n",
    "    sum_ = sum([reciprocal_rank(recommended_lists[i], bought_lists[i], k=k) for i in range(len(bought_lists))])\n",
    "    \n",
    "    return sum_/len(bought_lists)"
   ]
  },
  {
   "cell_type": "code",
   "execution_count": 32,
   "id": "062ff77c",
   "metadata": {},
   "outputs": [
    {
     "data": {
      "text/plain": [
       "0.3333333333333333"
      ]
     },
     "execution_count": 32,
     "metadata": {},
     "output_type": "execute_result"
    }
   ],
   "source": [
    "mrr_k(recommended_list_3_users, bought_list_3_users, k=4)"
   ]
  },
  {
   "cell_type": "code",
   "execution_count": 33,
   "id": "da5dc8db",
   "metadata": {},
   "outputs": [
    {
     "data": {
      "text/plain": [
       "0.4666666666666666"
      ]
     },
     "execution_count": 33,
     "metadata": {},
     "output_type": "execute_result"
    }
   ],
   "source": [
    "mrr_k(recommended_list_3_users, bought_list_3_users, k=5)"
   ]
  }
 ],
 "metadata": {
  "kernelspec": {
   "display_name": "Python 3 (ipykernel)",
   "language": "python",
   "name": "python3"
  },
  "language_info": {
   "codemirror_mode": {
    "name": "ipython",
    "version": 3
   },
   "file_extension": ".py",
   "mimetype": "text/x-python",
   "name": "python",
   "nbconvert_exporter": "python",
   "pygments_lexer": "ipython3",
   "version": "3.8.5"
  }
 },
 "nbformat": 4,
 "nbformat_minor": 5
}
